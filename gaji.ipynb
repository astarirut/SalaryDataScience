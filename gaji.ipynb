{
 "cells": [
  {
   "cell_type": "code",
   "execution_count": 2,
   "metadata": {},
   "outputs": [],
   "source": [
    "import pandas as pd\n",
    "import numpy as np\n",
    "import geonamescache\n",
    "from geonamescache.mappers import country"
   ]
  },
  {
   "cell_type": "code",
   "execution_count": 3,
   "metadata": {},
   "outputs": [
    {
     "data": {
      "text/html": [
       "<div>\n",
       "<style scoped>\n",
       "    .dataframe tbody tr th:only-of-type {\n",
       "        vertical-align: middle;\n",
       "    }\n",
       "\n",
       "    .dataframe tbody tr th {\n",
       "        vertical-align: top;\n",
       "    }\n",
       "\n",
       "    .dataframe thead th {\n",
       "        text-align: right;\n",
       "    }\n",
       "</style>\n",
       "<table border=\"1\" class=\"dataframe\">\n",
       "  <thead>\n",
       "    <tr style=\"text-align: right;\">\n",
       "      <th></th>\n",
       "      <th>work_year</th>\n",
       "      <th>experience_level</th>\n",
       "      <th>employment_type</th>\n",
       "      <th>job_title</th>\n",
       "      <th>salary</th>\n",
       "      <th>salary_currency</th>\n",
       "      <th>salary_in_usd</th>\n",
       "      <th>employee_residence</th>\n",
       "      <th>remote_ratio</th>\n",
       "      <th>company_location</th>\n",
       "      <th>company_size</th>\n",
       "    </tr>\n",
       "  </thead>\n",
       "  <tbody>\n",
       "    <tr>\n",
       "      <th>0</th>\n",
       "      <td>2023</td>\n",
       "      <td>SE</td>\n",
       "      <td>FT</td>\n",
       "      <td>Principal Data Scientist</td>\n",
       "      <td>80000</td>\n",
       "      <td>EUR</td>\n",
       "      <td>85847</td>\n",
       "      <td>ES</td>\n",
       "      <td>100</td>\n",
       "      <td>ES</td>\n",
       "      <td>L</td>\n",
       "    </tr>\n",
       "    <tr>\n",
       "      <th>1</th>\n",
       "      <td>2023</td>\n",
       "      <td>MI</td>\n",
       "      <td>CT</td>\n",
       "      <td>ML Engineer</td>\n",
       "      <td>30000</td>\n",
       "      <td>USD</td>\n",
       "      <td>30000</td>\n",
       "      <td>US</td>\n",
       "      <td>100</td>\n",
       "      <td>US</td>\n",
       "      <td>S</td>\n",
       "    </tr>\n",
       "    <tr>\n",
       "      <th>2</th>\n",
       "      <td>2023</td>\n",
       "      <td>MI</td>\n",
       "      <td>CT</td>\n",
       "      <td>ML Engineer</td>\n",
       "      <td>25500</td>\n",
       "      <td>USD</td>\n",
       "      <td>25500</td>\n",
       "      <td>US</td>\n",
       "      <td>100</td>\n",
       "      <td>US</td>\n",
       "      <td>S</td>\n",
       "    </tr>\n",
       "    <tr>\n",
       "      <th>3</th>\n",
       "      <td>2023</td>\n",
       "      <td>SE</td>\n",
       "      <td>FT</td>\n",
       "      <td>Data Scientist</td>\n",
       "      <td>175000</td>\n",
       "      <td>USD</td>\n",
       "      <td>175000</td>\n",
       "      <td>CA</td>\n",
       "      <td>100</td>\n",
       "      <td>CA</td>\n",
       "      <td>M</td>\n",
       "    </tr>\n",
       "    <tr>\n",
       "      <th>4</th>\n",
       "      <td>2023</td>\n",
       "      <td>SE</td>\n",
       "      <td>FT</td>\n",
       "      <td>Data Scientist</td>\n",
       "      <td>120000</td>\n",
       "      <td>USD</td>\n",
       "      <td>120000</td>\n",
       "      <td>CA</td>\n",
       "      <td>100</td>\n",
       "      <td>CA</td>\n",
       "      <td>M</td>\n",
       "    </tr>\n",
       "  </tbody>\n",
       "</table>\n",
       "</div>"
      ],
      "text/plain": [
       "   work_year experience_level employment_type                 job_title  \\\n",
       "0       2023               SE              FT  Principal Data Scientist   \n",
       "1       2023               MI              CT               ML Engineer   \n",
       "2       2023               MI              CT               ML Engineer   \n",
       "3       2023               SE              FT            Data Scientist   \n",
       "4       2023               SE              FT            Data Scientist   \n",
       "\n",
       "   salary salary_currency  salary_in_usd employee_residence  remote_ratio  \\\n",
       "0   80000             EUR          85847                 ES           100   \n",
       "1   30000             USD          30000                 US           100   \n",
       "2   25500             USD          25500                 US           100   \n",
       "3  175000             USD         175000                 CA           100   \n",
       "4  120000             USD         120000                 CA           100   \n",
       "\n",
       "  company_location company_size  \n",
       "0               ES            L  \n",
       "1               US            S  \n",
       "2               US            S  \n",
       "3               CA            M  \n",
       "4               CA            M  "
      ]
     },
     "execution_count": 3,
     "metadata": {},
     "output_type": "execute_result"
    }
   ],
   "source": [
    "df = pd.read_csv('ds_salaries.csv')\n",
    "df.head()"
   ]
  },
  {
   "cell_type": "code",
   "execution_count": 4,
   "metadata": {},
   "outputs": [
    {
     "name": "stdout",
     "output_type": "stream",
     "text": [
      "<class 'pandas.core.frame.DataFrame'>\n",
      "RangeIndex: 3755 entries, 0 to 3754\n",
      "Data columns (total 11 columns):\n",
      " #   Column              Non-Null Count  Dtype \n",
      "---  ------              --------------  ----- \n",
      " 0   work_year           3755 non-null   int64 \n",
      " 1   experience_level    3755 non-null   object\n",
      " 2   employment_type     3755 non-null   object\n",
      " 3   job_title           3755 non-null   object\n",
      " 4   salary              3755 non-null   int64 \n",
      " 5   salary_currency     3755 non-null   object\n",
      " 6   salary_in_usd       3755 non-null   int64 \n",
      " 7   employee_residence  3755 non-null   object\n",
      " 8   remote_ratio        3755 non-null   int64 \n",
      " 9   company_location    3755 non-null   object\n",
      " 10  company_size        3755 non-null   object\n",
      "dtypes: int64(4), object(7)\n",
      "memory usage: 322.8+ KB\n"
     ]
    }
   ],
   "source": [
    "df.info()"
   ]
  },
  {
   "cell_type": "code",
   "execution_count": 5,
   "metadata": {},
   "outputs": [
    {
     "name": "stdout",
     "output_type": "stream",
     "text": [
      "work_year\n",
      "[2023 2022 2020 2021]\n",
      "experience_level\n",
      "['SE' 'MI' 'EN' 'EX']\n",
      "employment_type\n",
      "['FT' 'CT' 'FL' 'PT']\n",
      "salary_currency\n",
      "['EUR' 'USD' 'INR' 'HKD' 'CHF' 'GBP' 'AUD' 'SGD' 'CAD' 'ILS' 'BRL' 'THB'\n",
      " 'PLN' 'HUF' 'CZK' 'DKK' 'JPY' 'MXN' 'TRY' 'CLP']\n",
      "employee_residence\n",
      "['ES' 'US' 'CA' 'DE' 'GB' 'NG' 'IN' 'HK' 'PT' 'NL' 'CH' 'CF' 'FR' 'AU'\n",
      " 'FI' 'UA' 'IE' 'IL' 'GH' 'AT' 'CO' 'SG' 'SE' 'SI' 'MX' 'UZ' 'BR' 'TH'\n",
      " 'HR' 'PL' 'KW' 'VN' 'CY' 'AR' 'AM' 'BA' 'KE' 'GR' 'MK' 'LV' 'RO' 'PK'\n",
      " 'IT' 'MA' 'LT' 'BE' 'AS' 'IR' 'HU' 'SK' 'CN' 'CZ' 'CR' 'TR' 'CL' 'PR'\n",
      " 'DK' 'BO' 'PH' 'DO' 'EG' 'ID' 'AE' 'MY' 'JP' 'EE' 'HN' 'TN' 'RU' 'DZ'\n",
      " 'IQ' 'BG' 'JE' 'RS' 'NZ' 'MD' 'LU' 'MT']\n",
      "company_location\n",
      "['ES' 'US' 'CA' 'DE' 'GB' 'NG' 'IN' 'HK' 'NL' 'CH' 'CF' 'FR' 'FI' 'UA'\n",
      " 'IE' 'IL' 'GH' 'CO' 'SG' 'AU' 'SE' 'SI' 'MX' 'BR' 'PT' 'RU' 'TH' 'HR'\n",
      " 'VN' 'EE' 'AM' 'BA' 'KE' 'GR' 'MK' 'LV' 'RO' 'PK' 'IT' 'MA' 'PL' 'AL'\n",
      " 'AR' 'LT' 'AS' 'CR' 'IR' 'BS' 'HU' 'AT' 'SK' 'CZ' 'TR' 'PR' 'DK' 'BO'\n",
      " 'PH' 'BE' 'ID' 'EG' 'AE' 'LU' 'MY' 'HN' 'JP' 'DZ' 'IQ' 'CN' 'NZ' 'CL'\n",
      " 'MD' 'MT']\n",
      "remote_ratio\n",
      "[100   0  50]\n",
      "job_title\n",
      "['Principal Data Scientist' 'ML Engineer' 'Data Scientist'\n",
      " 'Applied Scientist' 'Data Analyst' 'Data Modeler' 'Research Engineer'\n",
      " 'Analytics Engineer' 'Business Intelligence Engineer'\n",
      " 'Machine Learning Engineer' 'Data Strategist' 'Data Engineer'\n",
      " 'Computer Vision Engineer' 'Data Quality Analyst'\n",
      " 'Compliance Data Analyst' 'Data Architect'\n",
      " 'Applied Machine Learning Engineer' 'AI Developer' 'Research Scientist'\n",
      " 'Data Analytics Manager' 'Business Data Analyst' 'Applied Data Scientist'\n",
      " 'Staff Data Analyst' 'ETL Engineer' 'Data DevOps Engineer' 'Head of Data'\n",
      " 'Data Science Manager' 'Data Manager' 'Machine Learning Researcher'\n",
      " 'Big Data Engineer' 'Data Specialist' 'Lead Data Analyst'\n",
      " 'BI Data Engineer' 'Director of Data Science'\n",
      " 'Machine Learning Scientist' 'MLOps Engineer' 'AI Scientist'\n",
      " 'Autonomous Vehicle Technician' 'Applied Machine Learning Scientist'\n",
      " 'Lead Data Scientist' 'Cloud Database Engineer' 'Financial Data Analyst'\n",
      " 'Data Infrastructure Engineer' 'Software Data Engineer' 'AI Programmer'\n",
      " 'Data Operations Engineer' 'BI Developer' 'Data Science Lead'\n",
      " 'Deep Learning Researcher' 'BI Analyst' 'Data Science Consultant'\n",
      " 'Data Analytics Specialist' 'Machine Learning Infrastructure Engineer'\n",
      " 'BI Data Analyst' 'Head of Data Science' 'Insight Analyst'\n",
      " 'Deep Learning Engineer' 'Machine Learning Software Engineer'\n",
      " 'Big Data Architect' 'Product Data Analyst'\n",
      " 'Computer Vision Software Engineer' 'Azure Data Engineer'\n",
      " 'Marketing Data Engineer' 'Data Analytics Lead' 'Data Lead'\n",
      " 'Data Science Engineer' 'Machine Learning Research Engineer'\n",
      " 'NLP Engineer' 'Manager Data Management' 'Machine Learning Developer'\n",
      " '3D Computer Vision Researcher' 'Principal Machine Learning Engineer'\n",
      " 'Data Analytics Engineer' 'Data Analytics Consultant'\n",
      " 'Data Management Specialist' 'Data Science Tech Lead'\n",
      " 'Data Scientist Lead' 'Cloud Data Engineer' 'Data Operations Analyst'\n",
      " 'Marketing Data Analyst' 'Power BI Developer' 'Product Data Scientist'\n",
      " 'Principal Data Architect' 'Machine Learning Manager'\n",
      " 'Lead Machine Learning Engineer' 'ETL Developer' 'Cloud Data Architect'\n",
      " 'Lead Data Engineer' 'Head of Machine Learning' 'Principal Data Analyst'\n",
      " 'Principal Data Engineer' 'Staff Data Scientist' 'Finance Data Analyst']\n"
     ]
    }
   ],
   "source": [
    "for i in ['work_year', 'experience_level', 'employment_type', 'salary_currency', 'employee_residence', 'company_location', 'remote_ratio', 'job_title']:\n",
    "    print(i)\n",
    "    print(df[i].unique())"
   ]
  },
  {
   "cell_type": "code",
   "execution_count": 6,
   "metadata": {},
   "outputs": [
    {
     "data": {
      "text/plain": [
       "work_year             0\n",
       "experience_level      0\n",
       "employment_type       0\n",
       "job_title             0\n",
       "salary                0\n",
       "salary_currency       0\n",
       "salary_in_usd         0\n",
       "employee_residence    0\n",
       "remote_ratio          0\n",
       "company_location      0\n",
       "company_size          0\n",
       "dtype: int64"
      ]
     },
     "execution_count": 6,
     "metadata": {},
     "output_type": "execute_result"
    }
   ],
   "source": [
    "df.isna().sum()"
   ]
  },
  {
   "cell_type": "code",
   "execution_count": 7,
   "metadata": {},
   "outputs": [
    {
     "data": {
      "text/plain": [
       "np.int64(1171)"
      ]
     },
     "execution_count": 7,
     "metadata": {},
     "output_type": "execute_result"
    }
   ],
   "source": [
    "df.duplicated().sum()\n",
    "\n",
    "# karena tidak ada Primary Key maka duplicated akan dibiarkan"
   ]
  },
  {
   "cell_type": "code",
   "execution_count": 8,
   "metadata": {},
   "outputs": [],
   "source": [
    "mapper = country(from_key='iso', to_key='name')\n",
    "\n",
    "def get_country_name(df_string, mapper=mapper):\n",
    "    result = mapper(df_string)\n",
    "    \n",
    "    # if country ID is not found, set result to invalid\n",
    "    if result == None: \n",
    "        result = 'Invalid'\n",
    "    \n",
    "    return result"
   ]
  },
  {
   "cell_type": "code",
   "execution_count": 9,
   "metadata": {},
   "outputs": [
    {
     "data": {
      "text/plain": [
       "employee_residence\n",
       "United States     3004\n",
       "United Kingdom     167\n",
       "Canada              85\n",
       "Spain               80\n",
       "India               71\n",
       "                  ... \n",
       "Serbia               1\n",
       "New Zealand          1\n",
       "Moldova              1\n",
       "Luxembourg           1\n",
       "Malta                1\n",
       "Name: count, Length: 78, dtype: int64"
      ]
     },
     "execution_count": 9,
     "metadata": {},
     "output_type": "execute_result"
    }
   ],
   "source": [
    "employee_res = df['employee_residence'][:].apply(get_country_name, mapper=mapper)\n",
    "employee_res.value_counts()\n",
    "\n"
   ]
  },
  {
   "cell_type": "code",
   "execution_count": 10,
   "metadata": {},
   "outputs": [
    {
     "data": {
      "text/plain": [
       "0"
      ]
     },
     "execution_count": 10,
     "metadata": {},
     "output_type": "execute_result"
    }
   ],
   "source": [
    "df['employee_residence'] = employee_res\n",
    "mask = df['employee_residence'] == 'Invalid'\n",
    "df[mask].shape[0]"
   ]
  },
  {
   "cell_type": "code",
   "execution_count": 11,
   "metadata": {},
   "outputs": [
    {
     "data": {
      "text/plain": [
       "company_location\n",
       "United States     3040\n",
       "United Kingdom     172\n",
       "Canada              87\n",
       "Spain               77\n",
       "India               58\n",
       "                  ... \n",
       "China                1\n",
       "New Zealand          1\n",
       "Chile                1\n",
       "Moldova              1\n",
       "Malta                1\n",
       "Name: count, Length: 72, dtype: int64"
      ]
     },
     "execution_count": 11,
     "metadata": {},
     "output_type": "execute_result"
    }
   ],
   "source": [
    "company_loc = df['company_location'][:].apply(get_country_name, mapper=mapper)\n",
    "company_loc.value_counts()"
   ]
  },
  {
   "cell_type": "code",
   "execution_count": 12,
   "metadata": {},
   "outputs": [
    {
     "data": {
      "text/plain": [
       "0"
      ]
     },
     "execution_count": 12,
     "metadata": {},
     "output_type": "execute_result"
    }
   ],
   "source": [
    "df['company_location'] = company_loc\n",
    "mask = df['company_location'] == 'Invalid'\n",
    "df[mask].shape[0]"
   ]
  },
  {
   "cell_type": "code",
   "execution_count": 13,
   "metadata": {},
   "outputs": [
    {
     "data": {
      "text/plain": [
       "array(['L', 'S', 'M'], dtype=object)"
      ]
     },
     "execution_count": 13,
     "metadata": {},
     "output_type": "execute_result"
    }
   ],
   "source": [
    "df['company_size'].unique()"
   ]
  },
  {
   "cell_type": "code",
   "execution_count": 14,
   "metadata": {},
   "outputs": [
    {
     "name": "stdout",
     "output_type": "stream",
     "text": [
      "0       Full Time\n",
      "1        Contract\n",
      "2        Contract\n",
      "3       Full Time\n",
      "4       Full Time\n",
      "          ...    \n",
      "3750    Full Time\n",
      "3751    Full Time\n",
      "3752    Full Time\n",
      "3753     Contract\n",
      "3754    Full Time\n",
      "Name: employment_type, Length: 3755, dtype: object\n"
     ]
    }
   ],
   "source": [
    "# Mengubah kolom employment_type\n",
    "def emp_type(i):\n",
    "    if i == 'FT':\n",
    "        return 'Full Time'\n",
    "    elif i == 'CT':\n",
    "        return 'Contract'\n",
    "    elif i == 'FL':\n",
    "        return 'Freelance'\n",
    "    else:\n",
    "        return 'Part Time'\n",
    "\n",
    "# Menerapkan fungsi ke kolom employment_type\n",
    "df['employment_type'] = df['employment_type'].apply(emp_type)\n",
    "\n",
    "print(df['employment_type'])"
   ]
  },
  {
   "cell_type": "code",
   "execution_count": 15,
   "metadata": {},
   "outputs": [
    {
     "name": "stdout",
     "output_type": "stream",
     "text": [
      "0       Senior Level\n",
      "1          Mid Level\n",
      "2          Mid Level\n",
      "3       Senior Level\n",
      "4       Senior Level\n",
      "            ...     \n",
      "3750    Senior Level\n",
      "3751       Mid Level\n",
      "3752     Entry Level\n",
      "3753     Entry Level\n",
      "3754    Senior Level\n",
      "Name: experience_level, Length: 3755, dtype: object\n"
     ]
    }
   ],
   "source": [
    "# Mengubah kolom experience_level\n",
    "def exp_lvl(i):\n",
    "    if i == 'SE':\n",
    "        return 'Senior Level'\n",
    "    elif i == 'MI':\n",
    "        return 'Mid Level'\n",
    "    elif i == 'EX':\n",
    "        return 'Experience'\n",
    "    else:\n",
    "        return 'Entry Level'\n",
    "\n",
    "# Menerapkan fungsi ke kolom experience_level\n",
    "df['experience_level'] = df['experience_level'].apply(exp_lvl)\n",
    "\n",
    "print(df['experience_level'])"
   ]
  },
  {
   "cell_type": "code",
   "execution_count": 16,
   "metadata": {},
   "outputs": [
    {
     "name": "stdout",
     "output_type": "stream",
     "text": [
      "0          WFH\n",
      "1          WFH\n",
      "2          WFH\n",
      "3          WFH\n",
      "4          WFH\n",
      "         ...  \n",
      "3750       WFH\n",
      "3751       WFH\n",
      "3752       WFH\n",
      "3753       WFH\n",
      "3754    Hybrid\n",
      "Name: remote_ratio, Length: 3755, dtype: object\n"
     ]
    }
   ],
   "source": [
    "# Mengubah kolom remote_ratio\n",
    "def remote(i):\n",
    "    if i == 100:\n",
    "        return 'WFH'\n",
    "    elif i == 50:\n",
    "        return 'Hybrid'\n",
    "    else:\n",
    "        return 'WFO'\n",
    "\n",
    "# Menerapkan fungsi ke kolom experience_level\n",
    "df['remote_ratio'] = df['remote_ratio'].apply(remote)\n",
    "\n",
    "print(df['remote_ratio'])"
   ]
  },
  {
   "cell_type": "code",
   "execution_count": 17,
   "metadata": {},
   "outputs": [],
   "source": [
    "df['company_size'] = df['company_size'].replace('L', 'Large')\n",
    "df['company_size'] = df['company_size'].replace('M', 'Medium')\n",
    "df['company_size'] = df['company_size'].replace('S', 'Small')"
   ]
  },
  {
   "cell_type": "code",
   "execution_count": 18,
   "metadata": {},
   "outputs": [
    {
     "data": {
      "text/plain": [
       "0       Principal Data Scientist\n",
       "1                    ML Engineer\n",
       "2                    ML Engineer\n",
       "3                 Data Scientist\n",
       "4                 Data Scientist\n",
       "                  ...           \n",
       "3750              Data Scientist\n",
       "3751    Principal Data Scientist\n",
       "3752              Data Scientist\n",
       "3753       Business Data Analyst\n",
       "3754        Data Science Manager\n",
       "Name: job_title, Length: 3755, dtype: object"
      ]
     },
     "execution_count": 18,
     "metadata": {},
     "output_type": "execute_result"
    }
   ],
   "source": [
    "df['job_title']"
   ]
  },
  {
   "cell_type": "code",
   "execution_count": 19,
   "metadata": {},
   "outputs": [
    {
     "data": {
      "text/plain": [
       "array(['Principal Data Scientist', 'Data Scientist', 'Applied Scientist',\n",
       "       'Research Scientist', 'Applied Data Scientist',\n",
       "       'Data Science Manager', 'Director of Data Science',\n",
       "       'Machine Learning Scientist', 'AI Scientist',\n",
       "       'Applied Machine Learning Scientist', 'Lead Data Scientist',\n",
       "       'Data Science Lead', 'Data Science Consultant',\n",
       "       'Head of Data Science', 'Data Science Engineer',\n",
       "       'Data Science Tech Lead', 'Data Scientist Lead',\n",
       "       'Product Data Scientist', 'Staff Data Scientist'], dtype=object)"
      ]
     },
     "execution_count": 19,
     "metadata": {},
     "output_type": "execute_result"
    }
   ],
   "source": [
    "filtered_nama = df[df['job_title'].str.contains('Scien', na=False)]['job_title'].unique()\n",
    "\n",
    "filtered_nama"
   ]
  },
  {
   "cell_type": "code",
   "execution_count": 20,
   "metadata": {},
   "outputs": [],
   "source": [
    "# Fungsi untuk mengkategorikan pekerjaan\n",
    "def job_cat(i):\n",
    "    if 'anal' in i.lower():\n",
    "        return 'Data Analyst'\n",
    "    elif 'scien' in i.lower():\n",
    "        return 'Data Scientist'\n",
    "    else:\n",
    "        return 'Data Engineer'\n",
    "\n",
    "# Menerapkan fungsi ke kolom job_title\n",
    "df['job_kat'] = df['job_title'].apply(job_cat)\n"
   ]
  },
  {
   "cell_type": "code",
   "execution_count": 21,
   "metadata": {},
   "outputs": [
    {
     "name": "stdout",
     "output_type": "stream",
     "text": [
      "<class 'pandas.core.frame.DataFrame'>\n",
      "RangeIndex: 3755 entries, 0 to 3754\n",
      "Data columns (total 12 columns):\n",
      " #   Column              Non-Null Count  Dtype \n",
      "---  ------              --------------  ----- \n",
      " 0   work_year           3755 non-null   int64 \n",
      " 1   experience_level    3755 non-null   object\n",
      " 2   employment_type     3755 non-null   object\n",
      " 3   job_title           3755 non-null   object\n",
      " 4   salary              3755 non-null   int64 \n",
      " 5   salary_currency     3755 non-null   object\n",
      " 6   salary_in_usd       3755 non-null   int64 \n",
      " 7   employee_residence  3755 non-null   object\n",
      " 8   remote_ratio        3755 non-null   object\n",
      " 9   company_location    3755 non-null   object\n",
      " 10  company_size        3755 non-null   object\n",
      " 11  job_kat             3755 non-null   object\n",
      "dtypes: int64(3), object(9)\n",
      "memory usage: 352.2+ KB\n"
     ]
    }
   ],
   "source": [
    "df.info()"
   ]
  },
  {
   "cell_type": "code",
   "execution_count": 22,
   "metadata": {},
   "outputs": [
    {
     "data": {
      "text/plain": [
       "array(['ML Engineer', 'Data Modeler', 'Research Engineer',\n",
       "       'Business Intelligence Engineer', 'Machine Learning Engineer',\n",
       "       'Data Strategist', 'Data Engineer', 'Computer Vision Engineer',\n",
       "       'Data Architect', 'Applied Machine Learning Engineer',\n",
       "       'AI Developer', 'ETL Engineer', 'Data DevOps Engineer',\n",
       "       'Head of Data', 'Data Manager', 'Machine Learning Researcher',\n",
       "       'Big Data Engineer', 'Data Specialist', 'BI Data Engineer',\n",
       "       'MLOps Engineer', 'Autonomous Vehicle Technician',\n",
       "       'Cloud Database Engineer', 'Data Infrastructure Engineer',\n",
       "       'Software Data Engineer', 'AI Programmer',\n",
       "       'Data Operations Engineer', 'BI Developer',\n",
       "       'Deep Learning Researcher',\n",
       "       'Machine Learning Infrastructure Engineer',\n",
       "       'Deep Learning Engineer', 'Machine Learning Software Engineer',\n",
       "       'Big Data Architect', 'Computer Vision Software Engineer',\n",
       "       'Azure Data Engineer', 'Marketing Data Engineer', 'Data Lead',\n",
       "       'Machine Learning Research Engineer', 'NLP Engineer',\n",
       "       'Manager Data Management', 'Machine Learning Developer',\n",
       "       '3D Computer Vision Researcher',\n",
       "       'Principal Machine Learning Engineer',\n",
       "       'Data Management Specialist', 'Cloud Data Engineer',\n",
       "       'Power BI Developer', 'Principal Data Architect',\n",
       "       'Machine Learning Manager', 'Lead Machine Learning Engineer',\n",
       "       'ETL Developer', 'Cloud Data Architect', 'Lead Data Engineer',\n",
       "       'Head of Machine Learning', 'Principal Data Engineer'],\n",
       "      dtype=object)"
      ]
     },
     "execution_count": 22,
     "metadata": {},
     "output_type": "execute_result"
    }
   ],
   "source": [
    "filtered_df = df[df['job_kat'] == 'Data Engineer']\n",
    "unique_job_titles = filtered_df['job_title'].unique()\n",
    "\n",
    "unique_job_titles"
   ]
  },
  {
   "cell_type": "code",
   "execution_count": 23,
   "metadata": {},
   "outputs": [
    {
     "name": "stdout",
     "output_type": "stream",
     "text": [
      "Mean.salary     : 190695.57\n",
      "Median.salary   : 138000.0\n",
      "St_Dev.salary   : 671676.5\n",
      "Skewness.salary : 28.94\n",
      "Kurtosis.salary : 1147.57\n",
      "salary Min.    : 6000\n",
      "salary Max.    : 30400000\n"
     ]
    }
   ],
   "source": [
    "# Kolom Harga\n",
    "print(f'Mean.salary     : {df[\"salary\"].mean().round(2)}')\n",
    "print(f'Median.salary   : {df[\"salary\"].median()}')\n",
    "print(f'St_Dev.salary   : {df[\"salary\"].std().round(2)}')\n",
    "print(f'Skewness.salary : {df[\"salary\"].skew().round(2)}')\n",
    "print(f'Kurtosis.salary : {df[\"salary\"].kurtosis().round(2)}')\n",
    "print(f\"salary Min.    : {df['salary'].min()}\")\n",
    "print(f\"salary Max.    : {df['salary'].max()}\")"
   ]
  },
  {
   "cell_type": "code",
   "execution_count": 24,
   "metadata": {},
   "outputs": [
    {
     "data": {
      "text/html": [
       "<div>\n",
       "<style scoped>\n",
       "    .dataframe tbody tr th:only-of-type {\n",
       "        vertical-align: middle;\n",
       "    }\n",
       "\n",
       "    .dataframe tbody tr th {\n",
       "        vertical-align: top;\n",
       "    }\n",
       "\n",
       "    .dataframe thead th {\n",
       "        text-align: right;\n",
       "    }\n",
       "</style>\n",
       "<table border=\"1\" class=\"dataframe\">\n",
       "  <thead>\n",
       "    <tr style=\"text-align: right;\">\n",
       "      <th></th>\n",
       "      <th>work_year</th>\n",
       "      <th>experience_level</th>\n",
       "      <th>employment_type</th>\n",
       "      <th>job_title</th>\n",
       "      <th>salary</th>\n",
       "      <th>salary_currency</th>\n",
       "      <th>salary_in_usd</th>\n",
       "      <th>employee_residence</th>\n",
       "      <th>remote_ratio</th>\n",
       "      <th>company_location</th>\n",
       "      <th>company_size</th>\n",
       "      <th>job_kat</th>\n",
       "    </tr>\n",
       "  </thead>\n",
       "  <tbody>\n",
       "    <tr>\n",
       "      <th>0</th>\n",
       "      <td>2023</td>\n",
       "      <td>Senior Level</td>\n",
       "      <td>Full Time</td>\n",
       "      <td>Principal Data Scientist</td>\n",
       "      <td>80000</td>\n",
       "      <td>EUR</td>\n",
       "      <td>85847</td>\n",
       "      <td>Spain</td>\n",
       "      <td>WFH</td>\n",
       "      <td>Spain</td>\n",
       "      <td>Large</td>\n",
       "      <td>Data Scientist</td>\n",
       "    </tr>\n",
       "    <tr>\n",
       "      <th>1</th>\n",
       "      <td>2023</td>\n",
       "      <td>Mid Level</td>\n",
       "      <td>Contract</td>\n",
       "      <td>ML Engineer</td>\n",
       "      <td>30000</td>\n",
       "      <td>USD</td>\n",
       "      <td>30000</td>\n",
       "      <td>United States</td>\n",
       "      <td>WFH</td>\n",
       "      <td>United States</td>\n",
       "      <td>Small</td>\n",
       "      <td>Data Engineer</td>\n",
       "    </tr>\n",
       "    <tr>\n",
       "      <th>2</th>\n",
       "      <td>2023</td>\n",
       "      <td>Mid Level</td>\n",
       "      <td>Contract</td>\n",
       "      <td>ML Engineer</td>\n",
       "      <td>25500</td>\n",
       "      <td>USD</td>\n",
       "      <td>25500</td>\n",
       "      <td>United States</td>\n",
       "      <td>WFH</td>\n",
       "      <td>United States</td>\n",
       "      <td>Small</td>\n",
       "      <td>Data Engineer</td>\n",
       "    </tr>\n",
       "    <tr>\n",
       "      <th>3</th>\n",
       "      <td>2023</td>\n",
       "      <td>Senior Level</td>\n",
       "      <td>Full Time</td>\n",
       "      <td>Data Scientist</td>\n",
       "      <td>175000</td>\n",
       "      <td>USD</td>\n",
       "      <td>175000</td>\n",
       "      <td>Canada</td>\n",
       "      <td>WFH</td>\n",
       "      <td>Canada</td>\n",
       "      <td>Medium</td>\n",
       "      <td>Data Scientist</td>\n",
       "    </tr>\n",
       "    <tr>\n",
       "      <th>4</th>\n",
       "      <td>2023</td>\n",
       "      <td>Senior Level</td>\n",
       "      <td>Full Time</td>\n",
       "      <td>Data Scientist</td>\n",
       "      <td>120000</td>\n",
       "      <td>USD</td>\n",
       "      <td>120000</td>\n",
       "      <td>Canada</td>\n",
       "      <td>WFH</td>\n",
       "      <td>Canada</td>\n",
       "      <td>Medium</td>\n",
       "      <td>Data Scientist</td>\n",
       "    </tr>\n",
       "  </tbody>\n",
       "</table>\n",
       "</div>"
      ],
      "text/plain": [
       "   work_year experience_level employment_type                 job_title  \\\n",
       "0       2023     Senior Level       Full Time  Principal Data Scientist   \n",
       "1       2023        Mid Level        Contract               ML Engineer   \n",
       "2       2023        Mid Level        Contract               ML Engineer   \n",
       "3       2023     Senior Level       Full Time            Data Scientist   \n",
       "4       2023     Senior Level       Full Time            Data Scientist   \n",
       "\n",
       "   salary salary_currency  salary_in_usd employee_residence remote_ratio  \\\n",
       "0   80000             EUR          85847              Spain          WFH   \n",
       "1   30000             USD          30000      United States          WFH   \n",
       "2   25500             USD          25500      United States          WFH   \n",
       "3  175000             USD         175000             Canada          WFH   \n",
       "4  120000             USD         120000             Canada          WFH   \n",
       "\n",
       "  company_location company_size         job_kat  \n",
       "0            Spain        Large  Data Scientist  \n",
       "1    United States        Small   Data Engineer  \n",
       "2    United States        Small   Data Engineer  \n",
       "3           Canada       Medium  Data Scientist  \n",
       "4           Canada       Medium  Data Scientist  "
      ]
     },
     "execution_count": 24,
     "metadata": {},
     "output_type": "execute_result"
    }
   ],
   "source": [
    "df.head()"
   ]
  },
  {
   "cell_type": "code",
   "execution_count": 25,
   "metadata": {},
   "outputs": [],
   "source": [
    "pivot_table = df.pivot_table(values='salary', index='job_kat', columns='work_year', aggfunc='count')"
   ]
  },
  {
   "cell_type": "code",
   "execution_count": 27,
   "metadata": {},
   "outputs": [
    {
     "data": {
      "text/html": [
       "<div>\n",
       "<style scoped>\n",
       "    .dataframe tbody tr th:only-of-type {\n",
       "        vertical-align: middle;\n",
       "    }\n",
       "\n",
       "    .dataframe tbody tr th {\n",
       "        vertical-align: top;\n",
       "    }\n",
       "\n",
       "    .dataframe thead th {\n",
       "        text-align: right;\n",
       "    }\n",
       "</style>\n",
       "<table border=\"1\" class=\"dataframe\">\n",
       "  <thead>\n",
       "    <tr style=\"text-align: right;\">\n",
       "      <th>work_year</th>\n",
       "      <th>2022</th>\n",
       "      <th>2023</th>\n",
       "      <th>persen</th>\n",
       "    </tr>\n",
       "    <tr>\n",
       "      <th>job_kat</th>\n",
       "      <th></th>\n",
       "      <th></th>\n",
       "      <th></th>\n",
       "    </tr>\n",
       "  </thead>\n",
       "  <tbody>\n",
       "    <tr>\n",
       "      <th>Data Analyst</th>\n",
       "      <td>377</td>\n",
       "      <td>390</td>\n",
       "      <td>3.45</td>\n",
       "    </tr>\n",
       "    <tr>\n",
       "      <th>Data Engineer</th>\n",
       "      <td>759</td>\n",
       "      <td>869</td>\n",
       "      <td>14.49</td>\n",
       "    </tr>\n",
       "    <tr>\n",
       "      <th>Data Scientist</th>\n",
       "      <td>528</td>\n",
       "      <td>526</td>\n",
       "      <td>-0.38</td>\n",
       "    </tr>\n",
       "  </tbody>\n",
       "</table>\n",
       "</div>"
      ],
      "text/plain": [
       "work_year       2022  2023  persen\n",
       "job_kat                           \n",
       "Data Analyst     377   390    3.45\n",
       "Data Engineer    759   869   14.49\n",
       "Data Scientist   528   526   -0.38"
      ]
     },
     "execution_count": 27,
     "metadata": {},
     "output_type": "execute_result"
    }
   ],
   "source": [
    "filtered_df = df[df['work_year'].isin([2022, 2023])]\n",
    "pivot_avg = filtered_df.pivot_table(values='salary_in_usd', index='job_kat', columns='work_year', aggfunc='count')\n",
    "pivot_avg = pivot_avg.round(2)\n",
    "\n",
    "\n",
    "pivot_avg['persen'] = ((pivot_avg[2023] - pivot_avg[2022]) / pivot_avg[2022]) * 100\n",
    "pivot_avg['persen'] = pivot_avg['persen'].round(2)\n",
    "\n",
    "pivot_avg"
   ]
  },
  {
   "cell_type": "markdown",
   "metadata": {},
   "source": [
    "Pengaruh Tahun Kerja Terhadap Gaji:\n",
    "\n",
    "Bagaimana perubahan tahun kerja (work_year) mempengaruhi rata-rata gaji (salary_in_usd) di berbagai kategori pekerjaan?\n",
    "Pengaruh Tingkat Pengalaman Terhadap Gaji:\n",
    "\n",
    "Apa hubungan antara tingkat pengalaman (experience_level) dan gaji? Apakah ada perbedaan signifikan antara level pemula, menengah, dan senior?\n",
    "Perbandingan Gaji Berdasarkan Tipe Pekerjaan:\n",
    "\n",
    "Bagaimana gaji bervariasi berdasarkan jenis pekerjaan (employment_type), seperti penuh waktu, paruh waktu, atau kontrak?\n",
    "Dampak Lokasi Perusahaan Terhadap Gaji:\n",
    "\n",
    "Bagaimana lokasi perusahaan (company_location) mempengaruhi gaji? Apakah ada perbedaan signifikan antara lokasi yang berbeda, seperti kota besar vs. kota kecil?\n",
    "Gaji dan Rasio Remote:\n",
    "\n",
    "Apakah ada hubungan antara rasio remote (remote_ratio) dan gaji? Apakah pekerja yang bekerja dari jarak jauh mendapatkan gaji yang lebih tinggi atau lebih rendah dibandingkan dengan yang bekerja di lokasi?\n",
    "Analisis Gaji Berdasarkan Ukuran Perusahaan:\n",
    "\n",
    "Bagaimana ukuran perusahaan (company_size) mempengaruhi gaji? Apakah karyawan di perusahaan besar mendapatkan gaji yang lebih tinggi dibandingkan di perusahaan kecil?\n",
    "Perbandingan Gaji Berdasarkan Kategori Pekerjaan:\n",
    "\n",
    "Bagaimana gaji bervariasi berdasarkan kategori pekerjaan (job_category)? Kategori pekerjaan mana yang memiliki gaji tertinggi dan terendah?\n",
    "Tren Gaji dari Tahun ke Tahun:\n",
    "\n",
    "Bagaimana tren gaji berubah dari tahun ke tahun untuk berbagai kategori pekerjaan? Apakah gaji meningkat, menurun, atau stabil?\n",
    "Analisis Keterkaitan Antara Lokasi dan Tipe Pekerjaan:\n",
    "\n",
    "Apakah ada pola tertentu di mana jenis pekerjaan lebih banyak ditemukan di lokasi tertentu? Bagaimana hal ini mempengaruhi gaji?"
   ]
  },
  {
   "cell_type": "code",
   "execution_count": null,
   "metadata": {},
   "outputs": [],
   "source": [
    "# Memfilter rata-rata gaji hanya 'Data Analyst' saja\n",
    "filtered_df = df[(df['job_category'] == 'Data Scientist')]\n",
    "# filtered_df = df[(df['work_year'] == 2023) & (df['job_category'] == 'Data Scientist')]\n",
    "pvt_ds = filtered_df.pivot_table(values='salary_in_usd', columns='job_category', aggfunc='mean')\n",
    "\n",
    "# Menampilkan hasil dalam bentuk DataFrame\n",
    "pvt_ds = pd.DataFrame(pvt_ds.round(2))\n",
    "pvt_ds"
   ]
  }
 ],
 "metadata": {
  "kernelspec": {
   "display_name": "base",
   "language": "python",
   "name": "python3"
  },
  "language_info": {
   "codemirror_mode": {
    "name": "ipython",
    "version": 3
   },
   "file_extension": ".py",
   "mimetype": "text/x-python",
   "name": "python",
   "nbconvert_exporter": "python",
   "pygments_lexer": "ipython3",
   "version": "3.12.3"
  }
 },
 "nbformat": 4,
 "nbformat_minor": 2
}
