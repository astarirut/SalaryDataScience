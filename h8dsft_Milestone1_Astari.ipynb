{
 "cells": [
  {
   "cell_type": "markdown",
   "metadata": {},
   "source": [
    "# **BAB I. PERKENALAN**"
   ]
  },
  {
   "cell_type": "markdown",
   "metadata": {},
   "source": [
    "=============================================================================\n",
    "\n",
    "NAMA        : ASTARI APRILIA\n",
    "\n",
    "BATCH       : HCK-022\n",
    "\n",
    "DASHBOARD   : https://public.tableau.com/app/profile/astari.aprilia/viz/SalaryDataScience/Dashboard1?publish=yes\n",
    "\n",
    "DATA SOURCE : https://www.kaggle.com/datasets/arnabchaki/data-science-salaries-2023\n",
    "\n",
    "============================================================================="
   ]
  },
  {
   "cell_type": "markdown",
   "metadata": {},
   "source": [
    "## **Penjelasan Kolom:**"
   ]
  },
  {
   "cell_type": "markdown",
   "metadata": {},
   "source": [
    "\n",
    "|No.|Column Name|Description|\n",
    "|:--|:----------|:----------|\n",
    "|1. |**work_year**|Tahun spesifik saat gaji dibayarkan.|\n",
    "|2. |**experience_level**|Tingkat pengalaman seseorang dalam pekerjaan tertentu.|\n",
    "|3. |**employment_type**|Jenis kontrak kerja, seperti Full Time, Part Time, Contract dan Freelance.|\n",
    "|4. |**job_title**|Jabatan yang dipegang seseorang di perusahaan.|\n",
    "|5. |**salary**|Total gaji kotor yang dibayarkan kepada individu.|\n",
    "|6. |**salary_currency**|Mata uang spesifik di mana gaji dibayarkan.|\n",
    "|7. |**salaryinusd**|Total gaji kotor yang dikonversi ke dolar AS.|\n",
    "|8. |**employee_residence**|Negara tempat tinggal utama karyawan.|\n",
    "|9. |**remote_ratio**|Tipe pekerjaan yang dilakukan seperti WFH, WFO dan Hybrid.|\n",
    "|10. |**company_location**|Lokasi kantor utama atau cabang perusahaan yang memegang kontrak.|\n",
    "|11. |**company_size**|Jumlah karyawan rata-rata di perusahaan selama tahun kerja.|\n",
    "|12. |**job_category**|Kategori pekerjaan yang menunjukkan jenis peran, seperti Data Analyst, Data Engineer dan Data Scientist.|"
   ]
  },
  {
   "cell_type": "markdown",
   "metadata": {},
   "source": [
    "# **BAB II. IDENTIFIKASI MASALAH**"
   ]
  },
  {
   "cell_type": "markdown",
   "metadata": {},
   "source": [
    "## **Latar Belakang Masalah**"
   ]
  },
  {
   "cell_type": "markdown",
   "metadata": {},
   "source": [
    "Banyak profesional di bidang data science mengalami kesulitan dalam memperoleh informasi yang jelas tentang rentang gaji, yang dipengaruhi oleh faktor-faktor seperti pengalaman, jenis pekerjaan, dan lokasi. Pemahaman yang tepat mengenai gaji sangat penting untuk membantu individu membuat keputusan karier yang tepat."
   ]
  },
  {
   "cell_type": "markdown",
   "metadata": {},
   "source": [
    "## **Topik Permasalahan**"
   ]
  },
  {
   "cell_type": "markdown",
   "metadata": {},
   "source": [
    "Saya ingin menjadi Data Analyst yang berkarir di negara lain, saya berencana untuk menganalisis gajinya. Saya akan memahami tren gaji dari tahun ke tahun, dan saya akan mempertimbangkan level pengalaman kerja saya untuk mengevaluasi bagaimana level pengalaman mempengaruhi gaji. saya akan mengeksplorasi tipe-tipe pekerjaan untuk mengetahui apakah tipe pekerjaan seperti full time, part time atau freelance menawarkan perbedaan gaji yang signifikan. Dan saya juga akan mempertimbangkan apakah pekerjaan yang menawarkan fleksibilitas kerja secara jarak jauh memiliki gaji yang lebih tinggi atau rendah. dan ukuran perusahaan juga menjadi fokus saya."
   ]
  },
  {
   "cell_type": "markdown",
   "metadata": {},
   "source": [
    "## **SMART Goals**"
   ]
  },
  {
   "cell_type": "markdown",
   "metadata": {},
   "source": [
    "**S**pecific: Membandingkan rata-rata gaji diberbagai negara, level pengalaman, status pekerjaan dan mode pekerjaan.\n",
    "\n",
    "**M**easurable: Menghitung rata-rata persentase kenaikan gaji tahunan sebesar 47.69% dalam periode tersebut.\n",
    "\n",
    "**A**chievable: Menggunakan data dari 3,755 profesional data science yang tersedia.\n",
    "\n",
    "**R**elevant: Memberikan wawasan yang jelas tentang tren gaji untuk membantu profesional data science dalam merencanakan karir.\n",
    "\n",
    "**T**ime-bound: Menyelesaikan analisis sederhana dalam waktu 1 minggu dan mulai melamar kerja 2 bulan lagi."
   ]
  },
  {
   "cell_type": "markdown",
   "metadata": {},
   "source": [
    "## **Problem Statement**"
   ]
  },
  {
   "cell_type": "markdown",
   "metadata": {},
   "source": [
    "\n",
    "Tren gaji di industri teknologi meningkat, tetapi fluktuasi kompensasi menciptakan ketidakpastian bagi profesional yang beralih ke bidang ini. Selain itu, perbedaan gaji antar kategori pekerjaan dan dampak mode kerja pascapandemi perlu diselidiki agar keputusan karir dan perekrutan lebih baik."
   ]
  },
  {
   "cell_type": "markdown",
   "metadata": {},
   "source": [
    "## **Bisnis Metrics**"
   ]
  },
  {
   "cell_type": "markdown",
   "metadata": {},
   "source": [
    "1. **Rata-Rata Gaji**\n",
    "Menghitung rata-rata gaji berdasarkan kategori job, lokasi kerja, level pengalaman, mode kerja dan tipe pekerjaan.\n",
    "2. **Persentase Kenaikan Gaji**\n",
    "Menghitung persentase kenaikan gaji dari tahun ke tahun untuk melihat tren gaji dalam jangka waktu tertentu.\n",
    "3. **Gaji Berdasarkan Level Pengalaman**\n",
    "Membandingkan gaji rata-rata berdasarkan level pengalaman (entry-level, mid-level, senior) untuk menilai dampak pengalaman terhadap gaji.\n",
    "4. **Gaji Berdasarkan Tipe Pekerjaan**\n",
    "Menganalisis gaji rata-rata untuk full-time, part-time, dan freelance untuk melihat perbedaan signifikan antara jenis pekerjaan tersebut.\n",
    "5. **Gaji Berdasarkan Mode Kerja**\n",
    "Mengukur gaji rata-rata untuk posisi yang menawarkan fleksibilitas kerja jarak jauh versus yang tidak, untuk menilai dampak fleksibilitas terhadap gaji.\n",
    "6. **Gaji Berdasarkan Ukuran Perusahaan**\n",
    "Menganalisis gaji berdasarkan ukuran perusahaan (perusahaan kecil, perusahaan menengah, perusahaan besar) untuk memahami bagaimana ukuran perusahaan mempengaruhi gaji.\n",
    "7. **Perbandingan Gaji Internasional**\n",
    "Membandingkan gaji di berbagai negara atau wilayah untuk menilai daya saing gaji di lokasi yang berbeda.\n",
    "8. **Gaji Tertinggi dan Terendah**\n",
    "Mengidentifikasi gaji tertinggi dan terendah untuk setiap kategori (lokasi, level pengalaman, tipe pekerjaan) untuk memberikan gambaran tentang batasan gaji.\n",
    "​"
   ]
  },
  {
   "cell_type": "markdown",
   "metadata": {},
   "source": [
    "## **Penjabaran Masalah**"
   ]
  },
  {
   "cell_type": "markdown",
   "metadata": {},
   "source": [
    "1. Analisis gaji berdasarkan tahun:\n",
    "\n",
    "- Apakah terdapat tren gaji berdasarkan tahun?\n",
    "- Bagaimana rata-rata persentase gajinya, apakah meningkat atau menurun?\n",
    "\n",
    "2. Perbandingan Gaji Berdasarkan Kategori Pekerjaan:\n",
    "\n",
    "- Bagaimana perbandingan gaji berdasarkan kategori pekerjaan?\n",
    "- Kategori pekerjaan mana yang memiliki gaji tertinggi dan terendah?\n",
    "- Apakah ada kategori pekerjaan yang lebih banyak diminati dibandingkan yang lain?\n",
    "\n",
    "3. Analisis gaji berdasarkan pengalaman:\n",
    "\n",
    "- Apakah ada perbedaan signifikan dalam gaji antara level pengalaman yang berbeda?\n",
    "- Apakah level pengalaman kerja mempengaruhi gaji?\n",
    "\n",
    "4.  Analisis perbandingan gaji berdasarkan tipe pekerjaan:\n",
    "\n",
    "- Bagaimana gaji bervariasi antara tipe pekerjaan (full-time, part-time, freelance, kontrak)?\n",
    "- Apa preferensi karyawan terhadap tipe pekerjaan?\n",
    "\n",
    "5. Analisis gaji berdasarkan mode pekerja:\n",
    "\n",
    "- Apakah ada perbedaan signifikan dalam gaji antara mode pekerja yang berbeda?\n",
    "- apa mode pekerja yang rata-rata gajinya paling tinggi?\n",
    "\n",
    "6. Analisis gaji Berdasarkan Ukuran Perusahaan:\n",
    "\n",
    "- Apakah perusahaan besar cenderung menawarkan gaji yang lebih tinggi dibandingkan perusahaan kecil?\n",
    "\n",
    "7. Analisis Lokasi Perusahaan Terhadap Gaji:\n",
    "\n",
    "- Dimana lokasi perusahaan yang membuka peluang karir lebih besar?\n",
    "- Negara mana yang memiliki rata-rata gaji paling besar?\n",
    "\n",
    "\n"
   ]
  },
  {
   "cell_type": "markdown",
   "metadata": {},
   "source": [
    "# **BAB III. DATA LOADING**"
   ]
  },
  {
   "cell_type": "markdown",
   "metadata": {},
   "source": [
    "## **Libraries**"
   ]
  },
  {
   "cell_type": "code",
   "execution_count": 2,
   "metadata": {},
   "outputs": [],
   "source": [
    "# Import Libraries\n",
    "import pandas as pd\n",
    "import numpy as np\n",
    "from geonamescache.mappers import country\n",
    "import pycountry\n",
    "import matplotlib.pyplot as plt\n",
    "import seaborn as sns\n",
    "from scipy import stats\n",
    "from scipy.stats import f_oneway\n",
    "from scipy.stats import kendalltau"
   ]
  },
  {
   "cell_type": "code",
   "execution_count": 3,
   "metadata": {},
   "outputs": [
    {
     "data": {
      "text/html": [
       "<div>\n",
       "<style scoped>\n",
       "    .dataframe tbody tr th:only-of-type {\n",
       "        vertical-align: middle;\n",
       "    }\n",
       "\n",
       "    .dataframe tbody tr th {\n",
       "        vertical-align: top;\n",
       "    }\n",
       "\n",
       "    .dataframe thead th {\n",
       "        text-align: right;\n",
       "    }\n",
       "</style>\n",
       "<table border=\"1\" class=\"dataframe\">\n",
       "  <thead>\n",
       "    <tr style=\"text-align: right;\">\n",
       "      <th></th>\n",
       "      <th>work_year</th>\n",
       "      <th>experience_level</th>\n",
       "      <th>employment_type</th>\n",
       "      <th>job_title</th>\n",
       "      <th>salary</th>\n",
       "      <th>salary_currency</th>\n",
       "      <th>salary_in_usd</th>\n",
       "      <th>employee_residence</th>\n",
       "      <th>remote_ratio</th>\n",
       "      <th>company_location</th>\n",
       "      <th>company_size</th>\n",
       "    </tr>\n",
       "  </thead>\n",
       "  <tbody>\n",
       "    <tr>\n",
       "      <th>0</th>\n",
       "      <td>2023</td>\n",
       "      <td>SE</td>\n",
       "      <td>FT</td>\n",
       "      <td>Principal Data Scientist</td>\n",
       "      <td>80000</td>\n",
       "      <td>EUR</td>\n",
       "      <td>85847</td>\n",
       "      <td>ES</td>\n",
       "      <td>100</td>\n",
       "      <td>ES</td>\n",
       "      <td>L</td>\n",
       "    </tr>\n",
       "    <tr>\n",
       "      <th>1</th>\n",
       "      <td>2023</td>\n",
       "      <td>MI</td>\n",
       "      <td>CT</td>\n",
       "      <td>ML Engineer</td>\n",
       "      <td>30000</td>\n",
       "      <td>USD</td>\n",
       "      <td>30000</td>\n",
       "      <td>US</td>\n",
       "      <td>100</td>\n",
       "      <td>US</td>\n",
       "      <td>S</td>\n",
       "    </tr>\n",
       "    <tr>\n",
       "      <th>2</th>\n",
       "      <td>2023</td>\n",
       "      <td>MI</td>\n",
       "      <td>CT</td>\n",
       "      <td>ML Engineer</td>\n",
       "      <td>25500</td>\n",
       "      <td>USD</td>\n",
       "      <td>25500</td>\n",
       "      <td>US</td>\n",
       "      <td>100</td>\n",
       "      <td>US</td>\n",
       "      <td>S</td>\n",
       "    </tr>\n",
       "    <tr>\n",
       "      <th>3</th>\n",
       "      <td>2023</td>\n",
       "      <td>SE</td>\n",
       "      <td>FT</td>\n",
       "      <td>Data Scientist</td>\n",
       "      <td>175000</td>\n",
       "      <td>USD</td>\n",
       "      <td>175000</td>\n",
       "      <td>CA</td>\n",
       "      <td>100</td>\n",
       "      <td>CA</td>\n",
       "      <td>M</td>\n",
       "    </tr>\n",
       "    <tr>\n",
       "      <th>4</th>\n",
       "      <td>2023</td>\n",
       "      <td>SE</td>\n",
       "      <td>FT</td>\n",
       "      <td>Data Scientist</td>\n",
       "      <td>120000</td>\n",
       "      <td>USD</td>\n",
       "      <td>120000</td>\n",
       "      <td>CA</td>\n",
       "      <td>100</td>\n",
       "      <td>CA</td>\n",
       "      <td>M</td>\n",
       "    </tr>\n",
       "    <tr>\n",
       "      <th>...</th>\n",
       "      <td>...</td>\n",
       "      <td>...</td>\n",
       "      <td>...</td>\n",
       "      <td>...</td>\n",
       "      <td>...</td>\n",
       "      <td>...</td>\n",
       "      <td>...</td>\n",
       "      <td>...</td>\n",
       "      <td>...</td>\n",
       "      <td>...</td>\n",
       "      <td>...</td>\n",
       "    </tr>\n",
       "    <tr>\n",
       "      <th>3750</th>\n",
       "      <td>2020</td>\n",
       "      <td>SE</td>\n",
       "      <td>FT</td>\n",
       "      <td>Data Scientist</td>\n",
       "      <td>412000</td>\n",
       "      <td>USD</td>\n",
       "      <td>412000</td>\n",
       "      <td>US</td>\n",
       "      <td>100</td>\n",
       "      <td>US</td>\n",
       "      <td>L</td>\n",
       "    </tr>\n",
       "    <tr>\n",
       "      <th>3751</th>\n",
       "      <td>2021</td>\n",
       "      <td>MI</td>\n",
       "      <td>FT</td>\n",
       "      <td>Principal Data Scientist</td>\n",
       "      <td>151000</td>\n",
       "      <td>USD</td>\n",
       "      <td>151000</td>\n",
       "      <td>US</td>\n",
       "      <td>100</td>\n",
       "      <td>US</td>\n",
       "      <td>L</td>\n",
       "    </tr>\n",
       "    <tr>\n",
       "      <th>3752</th>\n",
       "      <td>2020</td>\n",
       "      <td>EN</td>\n",
       "      <td>FT</td>\n",
       "      <td>Data Scientist</td>\n",
       "      <td>105000</td>\n",
       "      <td>USD</td>\n",
       "      <td>105000</td>\n",
       "      <td>US</td>\n",
       "      <td>100</td>\n",
       "      <td>US</td>\n",
       "      <td>S</td>\n",
       "    </tr>\n",
       "    <tr>\n",
       "      <th>3753</th>\n",
       "      <td>2020</td>\n",
       "      <td>EN</td>\n",
       "      <td>CT</td>\n",
       "      <td>Business Data Analyst</td>\n",
       "      <td>100000</td>\n",
       "      <td>USD</td>\n",
       "      <td>100000</td>\n",
       "      <td>US</td>\n",
       "      <td>100</td>\n",
       "      <td>US</td>\n",
       "      <td>L</td>\n",
       "    </tr>\n",
       "    <tr>\n",
       "      <th>3754</th>\n",
       "      <td>2021</td>\n",
       "      <td>SE</td>\n",
       "      <td>FT</td>\n",
       "      <td>Data Science Manager</td>\n",
       "      <td>7000000</td>\n",
       "      <td>INR</td>\n",
       "      <td>94665</td>\n",
       "      <td>IN</td>\n",
       "      <td>50</td>\n",
       "      <td>IN</td>\n",
       "      <td>L</td>\n",
       "    </tr>\n",
       "  </tbody>\n",
       "</table>\n",
       "<p>3755 rows × 11 columns</p>\n",
       "</div>"
      ],
      "text/plain": [
       "      work_year experience_level employment_type                 job_title  \\\n",
       "0          2023               SE              FT  Principal Data Scientist   \n",
       "1          2023               MI              CT               ML Engineer   \n",
       "2          2023               MI              CT               ML Engineer   \n",
       "3          2023               SE              FT            Data Scientist   \n",
       "4          2023               SE              FT            Data Scientist   \n",
       "...         ...              ...             ...                       ...   \n",
       "3750       2020               SE              FT            Data Scientist   \n",
       "3751       2021               MI              FT  Principal Data Scientist   \n",
       "3752       2020               EN              FT            Data Scientist   \n",
       "3753       2020               EN              CT     Business Data Analyst   \n",
       "3754       2021               SE              FT      Data Science Manager   \n",
       "\n",
       "       salary salary_currency  salary_in_usd employee_residence  remote_ratio  \\\n",
       "0       80000             EUR          85847                 ES           100   \n",
       "1       30000             USD          30000                 US           100   \n",
       "2       25500             USD          25500                 US           100   \n",
       "3      175000             USD         175000                 CA           100   \n",
       "4      120000             USD         120000                 CA           100   \n",
       "...       ...             ...            ...                ...           ...   \n",
       "3750   412000             USD         412000                 US           100   \n",
       "3751   151000             USD         151000                 US           100   \n",
       "3752   105000             USD         105000                 US           100   \n",
       "3753   100000             USD         100000                 US           100   \n",
       "3754  7000000             INR          94665                 IN            50   \n",
       "\n",
       "     company_location company_size  \n",
       "0                  ES            L  \n",
       "1                  US            S  \n",
       "2                  US            S  \n",
       "3                  CA            M  \n",
       "4                  CA            M  \n",
       "...               ...          ...  \n",
       "3750               US            L  \n",
       "3751               US            L  \n",
       "3752               US            S  \n",
       "3753               US            L  \n",
       "3754               IN            L  \n",
       "\n",
       "[3755 rows x 11 columns]"
      ]
     },
     "execution_count": 3,
     "metadata": {},
     "output_type": "execute_result"
    }
   ],
   "source": [
    "# Data Loading untuk membaca dataset dan menyimpannya sebagai DataFrame\n",
    "df = pd.read_csv('ds_salaries.csv')\n",
    "df"
   ]
  },
  {
   "cell_type": "markdown",
   "metadata": {},
   "source": [
    "## **Data Exploration**"
   ]
  },
  {
   "cell_type": "code",
   "execution_count": 4,
   "metadata": {},
   "outputs": [
    {
     "name": "stdout",
     "output_type": "stream",
     "text": [
      "<class 'pandas.core.frame.DataFrame'>\n",
      "RangeIndex: 3755 entries, 0 to 3754\n",
      "Data columns (total 11 columns):\n",
      " #   Column              Non-Null Count  Dtype \n",
      "---  ------              --------------  ----- \n",
      " 0   work_year           3755 non-null   int64 \n",
      " 1   experience_level    3755 non-null   object\n",
      " 2   employment_type     3755 non-null   object\n",
      " 3   job_title           3755 non-null   object\n",
      " 4   salary              3755 non-null   int64 \n",
      " 5   salary_currency     3755 non-null   object\n",
      " 6   salary_in_usd       3755 non-null   int64 \n",
      " 7   employee_residence  3755 non-null   object\n",
      " 8   remote_ratio        3755 non-null   int64 \n",
      " 9   company_location    3755 non-null   object\n",
      " 10  company_size        3755 non-null   object\n",
      "dtypes: int64(4), object(7)\n",
      "memory usage: 322.8+ KB\n"
     ]
    }
   ],
   "source": [
    "df.info()"
   ]
  },
  {
   "cell_type": "code",
   "execution_count": 5,
   "metadata": {},
   "outputs": [
    {
     "data": {
      "text/plain": [
       "work_year             0\n",
       "experience_level      0\n",
       "employment_type       0\n",
       "job_title             0\n",
       "salary                0\n",
       "salary_currency       0\n",
       "salary_in_usd         0\n",
       "employee_residence    0\n",
       "remote_ratio          0\n",
       "company_location      0\n",
       "company_size          0\n",
       "dtype: int64"
      ]
     },
     "execution_count": 5,
     "metadata": {},
     "output_type": "execute_result"
    }
   ],
   "source": [
    "# Mengecek missing value\n",
    "df.isna().sum()"
   ]
  },
  {
   "cell_type": "code",
   "execution_count": 6,
   "metadata": {},
   "outputs": [
    {
     "data": {
      "text/plain": [
       "np.int64(1171)"
      ]
     },
     "execution_count": 6,
     "metadata": {},
     "output_type": "execute_result"
    }
   ],
   "source": [
    "# Mengecek duplicate\n",
    "df.duplicated().sum()"
   ]
  },
  {
   "cell_type": "code",
   "execution_count": 7,
   "metadata": {},
   "outputs": [
    {
     "name": "stdout",
     "output_type": "stream",
     "text": [
      "work_year\n",
      "[2023 2022 2020 2021]\n",
      "experience_level\n",
      "['SE' 'MI' 'EN' 'EX']\n",
      "employment_type\n",
      "['FT' 'CT' 'FL' 'PT']\n",
      "salary_currency\n",
      "['EUR' 'USD' 'INR' 'HKD' 'CHF' 'GBP' 'AUD' 'SGD' 'CAD' 'ILS' 'BRL' 'THB'\n",
      " 'PLN' 'HUF' 'CZK' 'DKK' 'JPY' 'MXN' 'TRY' 'CLP']\n",
      "employee_residence\n",
      "['ES' 'US' 'CA' 'DE' 'GB' 'NG' 'IN' 'HK' 'PT' 'NL' 'CH' 'CF' 'FR' 'AU'\n",
      " 'FI' 'UA' 'IE' 'IL' 'GH' 'AT' 'CO' 'SG' 'SE' 'SI' 'MX' 'UZ' 'BR' 'TH'\n",
      " 'HR' 'PL' 'KW' 'VN' 'CY' 'AR' 'AM' 'BA' 'KE' 'GR' 'MK' 'LV' 'RO' 'PK'\n",
      " 'IT' 'MA' 'LT' 'BE' 'AS' 'IR' 'HU' 'SK' 'CN' 'CZ' 'CR' 'TR' 'CL' 'PR'\n",
      " 'DK' 'BO' 'PH' 'DO' 'EG' 'ID' 'AE' 'MY' 'JP' 'EE' 'HN' 'TN' 'RU' 'DZ'\n",
      " 'IQ' 'BG' 'JE' 'RS' 'NZ' 'MD' 'LU' 'MT']\n",
      "company_location\n",
      "['ES' 'US' 'CA' 'DE' 'GB' 'NG' 'IN' 'HK' 'NL' 'CH' 'CF' 'FR' 'FI' 'UA'\n",
      " 'IE' 'IL' 'GH' 'CO' 'SG' 'AU' 'SE' 'SI' 'MX' 'BR' 'PT' 'RU' 'TH' 'HR'\n",
      " 'VN' 'EE' 'AM' 'BA' 'KE' 'GR' 'MK' 'LV' 'RO' 'PK' 'IT' 'MA' 'PL' 'AL'\n",
      " 'AR' 'LT' 'AS' 'CR' 'IR' 'BS' 'HU' 'AT' 'SK' 'CZ' 'TR' 'PR' 'DK' 'BO'\n",
      " 'PH' 'BE' 'ID' 'EG' 'AE' 'LU' 'MY' 'HN' 'JP' 'DZ' 'IQ' 'CN' 'NZ' 'CL'\n",
      " 'MD' 'MT']\n",
      "job_title\n",
      "['Principal Data Scientist' 'ML Engineer' 'Data Scientist'\n",
      " 'Applied Scientist' 'Data Analyst' 'Data Modeler' 'Research Engineer'\n",
      " 'Analytics Engineer' 'Business Intelligence Engineer'\n",
      " 'Machine Learning Engineer' 'Data Strategist' 'Data Engineer'\n",
      " 'Computer Vision Engineer' 'Data Quality Analyst'\n",
      " 'Compliance Data Analyst' 'Data Architect'\n",
      " 'Applied Machine Learning Engineer' 'AI Developer' 'Research Scientist'\n",
      " 'Data Analytics Manager' 'Business Data Analyst' 'Applied Data Scientist'\n",
      " 'Staff Data Analyst' 'ETL Engineer' 'Data DevOps Engineer' 'Head of Data'\n",
      " 'Data Science Manager' 'Data Manager' 'Machine Learning Researcher'\n",
      " 'Big Data Engineer' 'Data Specialist' 'Lead Data Analyst'\n",
      " 'BI Data Engineer' 'Director of Data Science'\n",
      " 'Machine Learning Scientist' 'MLOps Engineer' 'AI Scientist'\n",
      " 'Autonomous Vehicle Technician' 'Applied Machine Learning Scientist'\n",
      " 'Lead Data Scientist' 'Cloud Database Engineer' 'Financial Data Analyst'\n",
      " 'Data Infrastructure Engineer' 'Software Data Engineer' 'AI Programmer'\n",
      " 'Data Operations Engineer' 'BI Developer' 'Data Science Lead'\n",
      " 'Deep Learning Researcher' 'BI Analyst' 'Data Science Consultant'\n",
      " 'Data Analytics Specialist' 'Machine Learning Infrastructure Engineer'\n",
      " 'BI Data Analyst' 'Head of Data Science' 'Insight Analyst'\n",
      " 'Deep Learning Engineer' 'Machine Learning Software Engineer'\n",
      " 'Big Data Architect' 'Product Data Analyst'\n",
      " 'Computer Vision Software Engineer' 'Azure Data Engineer'\n",
      " 'Marketing Data Engineer' 'Data Analytics Lead' 'Data Lead'\n",
      " 'Data Science Engineer' 'Machine Learning Research Engineer'\n",
      " 'NLP Engineer' 'Manager Data Management' 'Machine Learning Developer'\n",
      " '3D Computer Vision Researcher' 'Principal Machine Learning Engineer'\n",
      " 'Data Analytics Engineer' 'Data Analytics Consultant'\n",
      " 'Data Management Specialist' 'Data Science Tech Lead'\n",
      " 'Data Scientist Lead' 'Cloud Data Engineer' 'Data Operations Analyst'\n",
      " 'Marketing Data Analyst' 'Power BI Developer' 'Product Data Scientist'\n",
      " 'Principal Data Architect' 'Machine Learning Manager'\n",
      " 'Lead Machine Learning Engineer' 'ETL Developer' 'Cloud Data Architect'\n",
      " 'Lead Data Engineer' 'Head of Machine Learning' 'Principal Data Analyst'\n",
      " 'Principal Data Engineer' 'Staff Data Scientist' 'Finance Data Analyst']\n",
      "remote_ratio\n",
      "[100   0  50]\n",
      "company_size\n",
      "['L' 'S' 'M']\n"
     ]
    }
   ],
   "source": [
    "# Mengecek nilai unik dari beberapa kolom\n",
    "for i in ['work_year', 'experience_level', 'employment_type', 'salary_currency', 'employee_residence',\n",
    "          'company_location', 'job_title', 'remote_ratio', 'company_size' ]:\n",
    "    print(i)\n",
    "    print(df[i].unique())"
   ]
  },
  {
   "cell_type": "markdown",
   "metadata": {},
   "source": [
    "# **BAB IV. DATA CLEANING**"
   ]
  },
  {
   "cell_type": "code",
   "execution_count": 8,
   "metadata": {},
   "outputs": [],
   "source": [
    "# Merubah isi kolom 'Experience_level'\n",
    "df['experience_level'] = df['experience_level'].replace('SE', 'Senior Level')\n",
    "df['experience_level'] = df['experience_level'].replace('MI', 'Mid Level')\n",
    "df['experience_level'] = df['experience_level'].replace('EN', 'Entry Level')\n",
    "df['experience_level'] = df['experience_level'].replace('EX', 'Executive')\n",
    "\n",
    "# Merubah isi kolom 'Employment_type'\n",
    "df['employment_type'] = df['employment_type'].replace('FT', 'Full Time')\n",
    "df['employment_type'] = df['employment_type'].replace('CT', 'Contract')\n",
    "df['employment_type'] = df['employment_type'].replace('FL', 'Freelance')\n",
    "df['employment_type'] = df['employment_type'].replace('PT', 'Part Time')\n",
    "\n",
    "# Merubah isi kolom 'Remote_ratio'\n",
    "df['remote_ratio'] = df['remote_ratio'].replace(100, 'WFH')\n",
    "df['remote_ratio'] = df['remote_ratio'].replace(50, 'Hybrid')\n",
    "df['remote_ratio'] = df['remote_ratio'].replace(0, 'WFO')\n",
    "\n",
    "# Merubah isi kolom 'Company_size'\n",
    "df['company_size'] = df['company_size'].replace('L', 'Large')\n",
    "df['company_size'] = df['company_size'].replace('M', 'Medium')\n",
    "df['company_size'] = df['company_size'].replace('S', 'Small')"
   ]
  },
  {
   "cell_type": "code",
   "execution_count": 9,
   "metadata": {},
   "outputs": [],
   "source": [
    "# Membuat dictionary dari kode negara ke nama negara\n",
    "country_map = {}\n",
    "for country in pycountry.countries:\n",
    "    country_map[country.alpha_2] = country.name\n",
    "# merubah isi kolom 'employee_residence'\n",
    "df['employee_residence'] = df['employee_residence'].replace(country_map)\n",
    "df['company_location'] = df['company_location'].replace(country_map)\n"
   ]
  },
  {
   "cell_type": "code",
   "execution_count": 10,
   "metadata": {},
   "outputs": [],
   "source": [
    "# Fungsi untuk mengkategorikan pekerjaan\n",
    "def job_cat(i):\n",
    "    if 'anal' in i.lower():\n",
    "        return 'Data Analyst'\n",
    "    elif 'scien' in i.lower():\n",
    "        return 'Data Scientist'\n",
    "    else:\n",
    "        return 'Data Engineer'\n",
    "\n",
    "# Menerapkan fungsi ke kolom baru job_category\n",
    "df['job_category'] = df['job_title'].apply(job_cat)"
   ]
  },
  {
   "cell_type": "code",
   "execution_count": 11,
   "metadata": {},
   "outputs": [
    {
     "data": {
      "text/html": [
       "<div>\n",
       "<style scoped>\n",
       "    .dataframe tbody tr th:only-of-type {\n",
       "        vertical-align: middle;\n",
       "    }\n",
       "\n",
       "    .dataframe tbody tr th {\n",
       "        vertical-align: top;\n",
       "    }\n",
       "\n",
       "    .dataframe thead th {\n",
       "        text-align: right;\n",
       "    }\n",
       "</style>\n",
       "<table border=\"1\" class=\"dataframe\">\n",
       "  <thead>\n",
       "    <tr style=\"text-align: right;\">\n",
       "      <th></th>\n",
       "      <th>work_year</th>\n",
       "      <th>experience_level</th>\n",
       "      <th>employment_type</th>\n",
       "      <th>job_title</th>\n",
       "      <th>salary</th>\n",
       "      <th>salary_currency</th>\n",
       "      <th>salary_in_usd</th>\n",
       "      <th>employee_residence</th>\n",
       "      <th>remote_ratio</th>\n",
       "      <th>company_location</th>\n",
       "      <th>company_size</th>\n",
       "      <th>job_category</th>\n",
       "    </tr>\n",
       "  </thead>\n",
       "  <tbody>\n",
       "    <tr>\n",
       "      <th>0</th>\n",
       "      <td>2023</td>\n",
       "      <td>Senior Level</td>\n",
       "      <td>Full Time</td>\n",
       "      <td>Principal Data Scientist</td>\n",
       "      <td>80000</td>\n",
       "      <td>EUR</td>\n",
       "      <td>85847</td>\n",
       "      <td>Spain</td>\n",
       "      <td>WFH</td>\n",
       "      <td>Spain</td>\n",
       "      <td>Large</td>\n",
       "      <td>Data Scientist</td>\n",
       "    </tr>\n",
       "    <tr>\n",
       "      <th>1</th>\n",
       "      <td>2023</td>\n",
       "      <td>Mid Level</td>\n",
       "      <td>Contract</td>\n",
       "      <td>ML Engineer</td>\n",
       "      <td>30000</td>\n",
       "      <td>USD</td>\n",
       "      <td>30000</td>\n",
       "      <td>United States</td>\n",
       "      <td>WFH</td>\n",
       "      <td>United States</td>\n",
       "      <td>Small</td>\n",
       "      <td>Data Engineer</td>\n",
       "    </tr>\n",
       "    <tr>\n",
       "      <th>2</th>\n",
       "      <td>2023</td>\n",
       "      <td>Mid Level</td>\n",
       "      <td>Contract</td>\n",
       "      <td>ML Engineer</td>\n",
       "      <td>25500</td>\n",
       "      <td>USD</td>\n",
       "      <td>25500</td>\n",
       "      <td>United States</td>\n",
       "      <td>WFH</td>\n",
       "      <td>United States</td>\n",
       "      <td>Small</td>\n",
       "      <td>Data Engineer</td>\n",
       "    </tr>\n",
       "    <tr>\n",
       "      <th>3</th>\n",
       "      <td>2023</td>\n",
       "      <td>Senior Level</td>\n",
       "      <td>Full Time</td>\n",
       "      <td>Data Scientist</td>\n",
       "      <td>175000</td>\n",
       "      <td>USD</td>\n",
       "      <td>175000</td>\n",
       "      <td>Canada</td>\n",
       "      <td>WFH</td>\n",
       "      <td>Canada</td>\n",
       "      <td>Medium</td>\n",
       "      <td>Data Scientist</td>\n",
       "    </tr>\n",
       "    <tr>\n",
       "      <th>4</th>\n",
       "      <td>2023</td>\n",
       "      <td>Senior Level</td>\n",
       "      <td>Full Time</td>\n",
       "      <td>Data Scientist</td>\n",
       "      <td>120000</td>\n",
       "      <td>USD</td>\n",
       "      <td>120000</td>\n",
       "      <td>Canada</td>\n",
       "      <td>WFH</td>\n",
       "      <td>Canada</td>\n",
       "      <td>Medium</td>\n",
       "      <td>Data Scientist</td>\n",
       "    </tr>\n",
       "    <tr>\n",
       "      <th>...</th>\n",
       "      <td>...</td>\n",
       "      <td>...</td>\n",
       "      <td>...</td>\n",
       "      <td>...</td>\n",
       "      <td>...</td>\n",
       "      <td>...</td>\n",
       "      <td>...</td>\n",
       "      <td>...</td>\n",
       "      <td>...</td>\n",
       "      <td>...</td>\n",
       "      <td>...</td>\n",
       "      <td>...</td>\n",
       "    </tr>\n",
       "    <tr>\n",
       "      <th>3750</th>\n",
       "      <td>2020</td>\n",
       "      <td>Senior Level</td>\n",
       "      <td>Full Time</td>\n",
       "      <td>Data Scientist</td>\n",
       "      <td>412000</td>\n",
       "      <td>USD</td>\n",
       "      <td>412000</td>\n",
       "      <td>United States</td>\n",
       "      <td>WFH</td>\n",
       "      <td>United States</td>\n",
       "      <td>Large</td>\n",
       "      <td>Data Scientist</td>\n",
       "    </tr>\n",
       "    <tr>\n",
       "      <th>3751</th>\n",
       "      <td>2021</td>\n",
       "      <td>Mid Level</td>\n",
       "      <td>Full Time</td>\n",
       "      <td>Principal Data Scientist</td>\n",
       "      <td>151000</td>\n",
       "      <td>USD</td>\n",
       "      <td>151000</td>\n",
       "      <td>United States</td>\n",
       "      <td>WFH</td>\n",
       "      <td>United States</td>\n",
       "      <td>Large</td>\n",
       "      <td>Data Scientist</td>\n",
       "    </tr>\n",
       "    <tr>\n",
       "      <th>3752</th>\n",
       "      <td>2020</td>\n",
       "      <td>Entry Level</td>\n",
       "      <td>Full Time</td>\n",
       "      <td>Data Scientist</td>\n",
       "      <td>105000</td>\n",
       "      <td>USD</td>\n",
       "      <td>105000</td>\n",
       "      <td>United States</td>\n",
       "      <td>WFH</td>\n",
       "      <td>United States</td>\n",
       "      <td>Small</td>\n",
       "      <td>Data Scientist</td>\n",
       "    </tr>\n",
       "    <tr>\n",
       "      <th>3753</th>\n",
       "      <td>2020</td>\n",
       "      <td>Entry Level</td>\n",
       "      <td>Contract</td>\n",
       "      <td>Business Data Analyst</td>\n",
       "      <td>100000</td>\n",
       "      <td>USD</td>\n",
       "      <td>100000</td>\n",
       "      <td>United States</td>\n",
       "      <td>WFH</td>\n",
       "      <td>United States</td>\n",
       "      <td>Large</td>\n",
       "      <td>Data Analyst</td>\n",
       "    </tr>\n",
       "    <tr>\n",
       "      <th>3754</th>\n",
       "      <td>2021</td>\n",
       "      <td>Senior Level</td>\n",
       "      <td>Full Time</td>\n",
       "      <td>Data Science Manager</td>\n",
       "      <td>7000000</td>\n",
       "      <td>INR</td>\n",
       "      <td>94665</td>\n",
       "      <td>India</td>\n",
       "      <td>Hybrid</td>\n",
       "      <td>India</td>\n",
       "      <td>Large</td>\n",
       "      <td>Data Scientist</td>\n",
       "    </tr>\n",
       "  </tbody>\n",
       "</table>\n",
       "<p>3755 rows × 12 columns</p>\n",
       "</div>"
      ],
      "text/plain": [
       "      work_year experience_level employment_type                 job_title  \\\n",
       "0          2023     Senior Level       Full Time  Principal Data Scientist   \n",
       "1          2023        Mid Level        Contract               ML Engineer   \n",
       "2          2023        Mid Level        Contract               ML Engineer   \n",
       "3          2023     Senior Level       Full Time            Data Scientist   \n",
       "4          2023     Senior Level       Full Time            Data Scientist   \n",
       "...         ...              ...             ...                       ...   \n",
       "3750       2020     Senior Level       Full Time            Data Scientist   \n",
       "3751       2021        Mid Level       Full Time  Principal Data Scientist   \n",
       "3752       2020      Entry Level       Full Time            Data Scientist   \n",
       "3753       2020      Entry Level        Contract     Business Data Analyst   \n",
       "3754       2021     Senior Level       Full Time      Data Science Manager   \n",
       "\n",
       "       salary salary_currency  salary_in_usd employee_residence remote_ratio  \\\n",
       "0       80000             EUR          85847              Spain          WFH   \n",
       "1       30000             USD          30000      United States          WFH   \n",
       "2       25500             USD          25500      United States          WFH   \n",
       "3      175000             USD         175000             Canada          WFH   \n",
       "4      120000             USD         120000             Canada          WFH   \n",
       "...       ...             ...            ...                ...          ...   \n",
       "3750   412000             USD         412000      United States          WFH   \n",
       "3751   151000             USD         151000      United States          WFH   \n",
       "3752   105000             USD         105000      United States          WFH   \n",
       "3753   100000             USD         100000      United States          WFH   \n",
       "3754  7000000             INR          94665              India       Hybrid   \n",
       "\n",
       "     company_location company_size    job_category  \n",
       "0               Spain        Large  Data Scientist  \n",
       "1       United States        Small   Data Engineer  \n",
       "2       United States        Small   Data Engineer  \n",
       "3              Canada       Medium  Data Scientist  \n",
       "4              Canada       Medium  Data Scientist  \n",
       "...               ...          ...             ...  \n",
       "3750    United States        Large  Data Scientist  \n",
       "3751    United States        Large  Data Scientist  \n",
       "3752    United States        Small  Data Scientist  \n",
       "3753    United States        Large    Data Analyst  \n",
       "3754            India        Large  Data Scientist  \n",
       "\n",
       "[3755 rows x 12 columns]"
      ]
     },
     "execution_count": 11,
     "metadata": {},
     "output_type": "execute_result"
    }
   ],
   "source": [
    "# Menampilkan kembali data yang sudah di-cleaning\n",
    "df"
   ]
  },
  {
   "cell_type": "markdown",
   "metadata": {},
   "source": [
    "# **BAB V. ANALISA DAN PERHITUNGAN**"
   ]
  },
  {
   "cell_type": "markdown",
   "metadata": {},
   "source": [
    "## **1. Analisa gaji berdasarkan tahun**"
   ]
  },
  {
   "cell_type": "markdown",
   "metadata": {},
   "source": [
    "**a. Apakah terdapat tren gaji berdasarkan tahun?**"
   ]
  },
  {
   "cell_type": "code",
   "execution_count": 12,
   "metadata": {},
   "outputs": [
    {
     "data": {
      "image/png": "[encoded data removed]",
      "text/plain": [
       "<Figure size 1000x600 with 1 Axes>"
      ]
     },
     "metadata": {},
     "output_type": "display_data"
    }
   ],
   "source": [
    "# Menghitung rata-rata gaji per tahun dan kategori pekerjaan\n",
    "average_salary = df.groupby(['work_year', 'job_category'])['salary_in_usd'].mean().reset_index()\n",
    "\n",
    "# Membuat multiline chart\n",
    "plt.figure(figsize=(10, 6))\n",
    "sns.lineplot(data=average_salary, x='work_year', y='salary_in_usd', hue='job_category', marker='o')\n",
    "\n",
    "# Menambahkan label dan judul\n",
    "plt.title('Tren Rata-Rata Gaji Berdasarkan Tahun')\n",
    "plt.xlabel('Tahun')\n",
    "plt.ylabel('Rata-rata Gaji (USD)')\n",
    "plt.xticks(average_salary['work_year'].unique())\n",
    "plt.legend(title='Kategori Pekerjaan')\n",
    "plt.grid()\n",
    "\n",
    "# Menampilkan grafik\n",
    "plt.show()"
   ]
  },
  {
   "cell_type": "markdown",
   "metadata": {},
   "source": [
    "Insight: Tren gaji dari 2020-2023 meningkat kecuali Data Scientist di tahun 2021 sempat mengalami penurunan. "
   ]
  },
  {
   "cell_type": "markdown",
   "metadata": {},
   "source": [
    "**b. Bagaimana rata-rata persentase gajinya, apakah meningkat atau menurun?**"
   ]
  },
  {
   "cell_type": "code",
   "execution_count": 13,
   "metadata": {},
   "outputs": [
    {
     "data": {
      "text/html": [
       "<div>\n",
       "<style scoped>\n",
       "    .dataframe tbody tr th:only-of-type {\n",
       "        vertical-align: middle;\n",
       "    }\n",
       "\n",
       "    .dataframe tbody tr th {\n",
       "        vertical-align: top;\n",
       "    }\n",
       "\n",
       "    .dataframe thead th {\n",
       "        text-align: right;\n",
       "    }\n",
       "</style>\n",
       "<table border=\"1\" class=\"dataframe\">\n",
       "  <thead>\n",
       "    <tr style=\"text-align: right;\">\n",
       "      <th>job_category</th>\n",
       "      <th>Data Analyst</th>\n",
       "      <th>Data Engineer</th>\n",
       "      <th>Data Scientist</th>\n",
       "    </tr>\n",
       "    <tr>\n",
       "      <th>work_year</th>\n",
       "      <th></th>\n",
       "      <th></th>\n",
       "      <th></th>\n",
       "    </tr>\n",
       "  </thead>\n",
       "  <tbody>\n",
       "    <tr>\n",
       "      <th>2020</th>\n",
       "      <td>NaN</td>\n",
       "      <td>NaN</td>\n",
       "      <td>NaN</td>\n",
       "    </tr>\n",
       "    <tr>\n",
       "      <th>2021</th>\n",
       "      <td>46.08</td>\n",
       "      <td>8.98</td>\n",
       "      <td>-14.65</td>\n",
       "    </tr>\n",
       "    <tr>\n",
       "      <th>2022</th>\n",
       "      <td>34.12</td>\n",
       "      <td>47.69</td>\n",
       "      <td>43.00</td>\n",
       "    </tr>\n",
       "    <tr>\n",
       "      <th>2023</th>\n",
       "      <td>8.61</td>\n",
       "      <td>9.85</td>\n",
       "      <td>16.17</td>\n",
       "    </tr>\n",
       "  </tbody>\n",
       "</table>\n",
       "</div>"
      ],
      "text/plain": [
       "job_category  Data Analyst  Data Engineer  Data Scientist\n",
       "work_year                                                \n",
       "2020                   NaN            NaN             NaN\n",
       "2021                 46.08           8.98          -14.65\n",
       "2022                 34.12          47.69           43.00\n",
       "2023                  8.61           9.85           16.17"
      ]
     },
     "execution_count": 13,
     "metadata": {},
     "output_type": "execute_result"
    }
   ],
   "source": [
    "def buat_pivot_table(dataframe):\n",
    "    # Membuat pivot table dengan rata-rata gaji per tahun dan kategori pekerjaan\n",
    "    pivot_table = dataframe.pivot_table(\n",
    "        values='salary_in_usd', \n",
    "        index='work_year', \n",
    "        columns='job_category', \n",
    "        aggfunc='mean'\n",
    "    )\n",
    "\n",
    "    # Menghitung **persentase** kenaikan gaji setiap tahun untuk setiap kategori pekerjaan\n",
    "    pivot_table = (pivot_table.pct_change() * 100).round(2)\n",
    "\n",
    "    return pivot_table\n",
    "\n",
    "buat_pivot_table(df)"
   ]
  },
  {
   "cell_type": "markdown",
   "metadata": {},
   "source": [
    "Insight: Rata-rata persentase gaji tiap job_category meningkat setiap tahun, kecuali Data Scientist sempat mengalami penurunan di tahun 2021 sebesar -14.65%, namun setelah itu meningkat tajam menjadi 43%."
   ]
  },
  {
   "cell_type": "markdown",
   "metadata": {},
   "source": [
    "## **2. Analisis Gaji Berdasarkan Kategori Pekerjaan**\n",
    "\n",
    "**a. Apakah ada perbedaan rata-rata gaji karyawan di tiga job     category yang berbeda, yaitu Data Analyst (DA), Data Engineer (DE) dan Data Scientist (DS)?**\n",
    "\n",
    "untuk mengetahuinya, saya akan melakukan Uji Hipotesis dengan menggunakan 'One-Way ANOVA'"
   ]
  },
  {
   "cell_type": "markdown",
   "metadata": {},
   "source": [
    "**Kerangka Hipotesis:**\n",
    "\n",
    "H0  : Tidak ada perbedaan signifikan dalam rata-rata gaji antara Data Analyst (DA), Data Engineer (DE) dan Data Scientist (DS).\n",
    "\n",
    "H1  : Ada perbedaan signifikan dalam rata-rata gaji antara Data Analyst (DA), Data Engineer (DE) dan Data Scientist (DS)."
   ]
  },
  {
   "cell_type": "code",
   "execution_count": 14,
   "metadata": {},
   "outputs": [
    {
     "name": "stdout",
     "output_type": "stream",
     "text": [
      "F-statistik : 90.70488272020003,\n",
      "P-value     : 3.388948441343083e-39\n",
      "Berhasil Menolak H0.\n",
      "Ada perbedaan signifikan antara 'Job Category'.\n"
     ]
    }
   ],
   "source": [
    "# Memisahkan data berdasarkan kategori pekerjaan\n",
    "data_scientist = df[df['job_category'] == 'Data Scientist']['salary_in_usd']\n",
    "data_engineer = df[df['job_category'] == 'Data Engineer']['salary_in_usd']\n",
    "data_analyst = df[df['job_category'] == 'Data Analyst']['salary_in_usd']\n",
    "\n",
    "# Melakukan ANOVA satu arah\n",
    "f_stat, p_value = f_oneway(data_scientist, data_engineer, data_analyst)\n",
    "\n",
    "# Menampilkan hasil ANOVA\n",
    "print(f\"F-statistik : {f_stat},\\nP-value     : {p_value}\")\n",
    "\n",
    "# Menentukan kesimpulan\n",
    "alpha = 0.05\n",
    "if p_value < alpha:\n",
    "    print(\"Berhasil Menolak H0.\\nAda perbedaan signifikan antara 'Job Category'.\")\n",
    "else:\n",
    "    print(\"Gagal menolak H0.\\nTidak ada perbedaan signifikan antara 'Job Category'.\")\n"
   ]
  },
  {
   "cell_type": "markdown",
   "metadata": {},
   "source": [
    "**b. Kategori pekerjaan mana yang memiliki gaji tertinggi dan terendah?**"
   ]
  },
  {
   "cell_type": "code",
   "execution_count": 15,
   "metadata": {},
   "outputs": [
    {
     "data": {
      "text/html": [
       "<div>\n",
       "<style scoped>\n",
       "    .dataframe tbody tr th:only-of-type {\n",
       "        vertical-align: middle;\n",
       "    }\n",
       "\n",
       "    .dataframe tbody tr th {\n",
       "        vertical-align: top;\n",
       "    }\n",
       "\n",
       "    .dataframe thead th {\n",
       "        text-align: right;\n",
       "    }\n",
       "</style>\n",
       "<table border=\"1\" class=\"dataframe\">\n",
       "  <thead>\n",
       "    <tr style=\"text-align: right;\">\n",
       "      <th>work_year</th>\n",
       "      <th>2020</th>\n",
       "      <th>2021</th>\n",
       "      <th>2022</th>\n",
       "      <th>2023</th>\n",
       "    </tr>\n",
       "    <tr>\n",
       "      <th>job_category</th>\n",
       "      <th></th>\n",
       "      <th></th>\n",
       "      <th></th>\n",
       "      <th></th>\n",
       "    </tr>\n",
       "  </thead>\n",
       "  <tbody>\n",
       "    <tr>\n",
       "      <th>Data Analyst</th>\n",
       "      <td>56107.00</td>\n",
       "      <td>81960.87</td>\n",
       "      <td>109926.86</td>\n",
       "      <td>119392.73</td>\n",
       "    </tr>\n",
       "    <tr>\n",
       "      <th>Data Engineer</th>\n",
       "      <td>87030.11</td>\n",
       "      <td>94845.77</td>\n",
       "      <td>140073.95</td>\n",
       "      <td>153867.74</td>\n",
       "    </tr>\n",
       "    <tr>\n",
       "      <th>Data Scientist</th>\n",
       "      <td>115013.91</td>\n",
       "      <td>98163.21</td>\n",
       "      <td>140372.94</td>\n",
       "      <td>163064.75</td>\n",
       "    </tr>\n",
       "  </tbody>\n",
       "</table>\n",
       "</div>"
      ],
      "text/plain": [
       "work_year            2020      2021       2022       2023\n",
       "job_category                                             \n",
       "Data Analyst     56107.00  81960.87  109926.86  119392.73\n",
       "Data Engineer    87030.11  94845.77  140073.95  153867.74\n",
       "Data Scientist  115013.91  98163.21  140372.94  163064.75"
      ]
     },
     "execution_count": 15,
     "metadata": {},
     "output_type": "execute_result"
    }
   ],
   "source": [
    "# Membuat Pivot Table berdasarkan job_category\n",
    "pvt_jobcat = df.pivot_table(values='salary_in_usd', index='job_category', columns='work_year', aggfunc='mean')\n",
    "pvt_jobcat = pvt_jobcat.round(2)\n",
    "\n",
    "pvt_jobcat"
   ]
  },
  {
   "cell_type": "markdown",
   "metadata": {},
   "source": [
    "Insight: Berdasarkan hasil statistika deskriptif diatas Data Scientist memiliki rata-rata yang gaji paling tinggi dan Data Analyst yang memiliki rata-rata yang paling rendah."
   ]
  },
  {
   "cell_type": "markdown",
   "metadata": {},
   "source": [
    "**c. Apakah ada kategori pekerjaan yang lebih banyak diminati dibandingkan yang lain?**"
   ]
  },
  {
   "cell_type": "code",
   "execution_count": 16,
   "metadata": {},
   "outputs": [
    {
     "data": {
      "text/html": [
       "<div>\n",
       "<style scoped>\n",
       "    .dataframe tbody tr th:only-of-type {\n",
       "        vertical-align: middle;\n",
       "    }\n",
       "\n",
       "    .dataframe tbody tr th {\n",
       "        vertical-align: top;\n",
       "    }\n",
       "\n",
       "    .dataframe thead th {\n",
       "        text-align: right;\n",
       "    }\n",
       "</style>\n",
       "<table border=\"1\" class=\"dataframe\">\n",
       "  <thead>\n",
       "    <tr style=\"text-align: right;\">\n",
       "      <th>work_year</th>\n",
       "      <th>2020</th>\n",
       "      <th>2021</th>\n",
       "      <th>2022</th>\n",
       "      <th>2023</th>\n",
       "    </tr>\n",
       "    <tr>\n",
       "      <th>job_category</th>\n",
       "      <th></th>\n",
       "      <th></th>\n",
       "      <th></th>\n",
       "      <th></th>\n",
       "    </tr>\n",
       "  </thead>\n",
       "  <tbody>\n",
       "    <tr>\n",
       "      <th>Data Analyst</th>\n",
       "      <td>16</td>\n",
       "      <td>38</td>\n",
       "      <td>377</td>\n",
       "      <td>390</td>\n",
       "    </tr>\n",
       "    <tr>\n",
       "      <th>Data Engineer</th>\n",
       "      <td>28</td>\n",
       "      <td>97</td>\n",
       "      <td>759</td>\n",
       "      <td>869</td>\n",
       "    </tr>\n",
       "    <tr>\n",
       "      <th>Data Scientist</th>\n",
       "      <td>32</td>\n",
       "      <td>95</td>\n",
       "      <td>528</td>\n",
       "      <td>526</td>\n",
       "    </tr>\n",
       "  </tbody>\n",
       "</table>\n",
       "</div>"
      ],
      "text/plain": [
       "work_year       2020  2021  2022  2023\n",
       "job_category                          \n",
       "Data Analyst      16    38   377   390\n",
       "Data Engineer     28    97   759   869\n",
       "Data Scientist    32    95   528   526"
      ]
     },
     "execution_count": 16,
     "metadata": {},
     "output_type": "execute_result"
    }
   ],
   "source": [
    "# Membuat Pivot Table berdasarkan job_category\n",
    "pvt_jobcat = df.pivot_table(values='salary_in_usd', index='job_category', columns='work_year', aggfunc='count')\n",
    "pvt_jobcat = pvt_jobcat.round(2)\n",
    "\n",
    "pvt_jobcat"
   ]
  },
  {
   "cell_type": "markdown",
   "metadata": {},
   "source": [
    "Insight: berdasarkan hasil statistika deskriptif tersebut, pekerjaan yang lebih banyak diminati adalah Data Engineer, sekitar 46% dari total keseluruhan."
   ]
  },
  {
   "cell_type": "markdown",
   "metadata": {},
   "source": [
    "## **3. Analisis Gaji Berdasarkan Pengalaman**"
   ]
  },
  {
   "cell_type": "markdown",
   "metadata": {},
   "source": [
    "**a. Apakah ada perbedaan signifikan dalam gaji antara level pengalaman yang berbeda?**\n",
    "\n",
    "untuk mengetahuinya, saya akan melakukan Uji Hipotesis dengan menggunakan 'One-Way ANOVA'\n",
    "\n"
   ]
  },
  {
   "cell_type": "markdown",
   "metadata": {},
   "source": [
    "**Kerangka Hipotesis:**\n",
    "\n",
    "H0  : Tidak ada perbedaan signifikan dalam rata-rata gaji antara level pengalaman.\n",
    "\n",
    "H1  : Ada perbedaan signifikan dalam rata-rata gaji antara Level pengalaman."
   ]
  },
  {
   "cell_type": "code",
   "execution_count": 17,
   "metadata": {},
   "outputs": [
    {
     "name": "stdout",
     "output_type": "stream",
     "text": [
      "F-statistik : 310.84425170411885,\n",
      "P-value     : 3.0989451417587622e-180\n",
      "Berhasil Menolak H0.\n",
      "Ada perbedaan signifikan antara 'Experience Level'.\n"
     ]
    }
   ],
   "source": [
    "def anova(df, experience_col, salary_col):\n",
    "    # Memisahkan data berdasarkan pengalaman kerja\n",
    "    experience_groups = [group[salary_col].values for name, group in df.groupby(experience_col)]\n",
    "\n",
    "    # Melakukan ANOVA satu arah\n",
    "    f_stat, p_value = f_oneway(*experience_groups)\n",
    "\n",
    "    # Menampilkan hasil ANOVA\n",
    "    print(f\"F-statistik : {f_stat},\\nP-value     : {p_value}\")\n",
    "\n",
    "    # Menentukan kesimpulan\n",
    "    alpha = 0.05\n",
    "    if p_value < alpha:\n",
    "        print(\"Berhasil Menolak H0.\\nAda perbedaan signifikan antara 'Experience Level'.\")\n",
    "    else:\n",
    "        print(\"Gagal menolak H0.\\nTidak ada perbedaan signifikan antara 'Experience Level'.\")\n",
    "\n",
    "# Panggil fungsi dengan DataFrame dan nama kolom yang relevan\n",
    "anova(df, 'experience_level', 'salary_in_usd')"
   ]
  },
  {
   "cell_type": "markdown",
   "metadata": {},
   "source": [
    "**b. Apakah level pengalaman kerja mempengaruhi gaji?**"
   ]
  },
  {
   "cell_type": "code",
   "execution_count": 18,
   "metadata": {},
   "outputs": [
    {
     "data": {
      "image/png": "[encoded data removed]",
      "text/plain": [
       "<Figure size 1400x600 with 2 Axes>"
      ]
     },
     "metadata": {},
     "output_type": "display_data"
    }
   ],
   "source": [
    "# Menghitung rata-rata gaji (mean) berdasarkan level pekerjaan\n",
    "pivot_table = df.pivot_table(values='salary_in_usd', index='work_year', columns='experience_level', aggfunc='mean')\n",
    "plt.figure(figsize=(14, 6))\n",
    "sns.heatmap(pivot_table, annot=True, fmt=\".2f\", cmap=\"YlGnBu\")\n",
    "plt.title('AVG Salary by Experience Level')\n",
    "plt.xlabel('Experience Level')\n",
    "plt.ylabel('Year')\n",
    "plt.show()"
   ]
  },
  {
   "cell_type": "markdown",
   "metadata": {},
   "source": [
    "Insight: Experience Level 'Excecutive' memiliki gaji yang lebih besar, yang digambarkan dengan warna Biru yg lebih gelap dibandingkan dengan Entry Level. Berarti Experience Level memiliki pengaruh terhadap gaji."
   ]
  },
  {
   "cell_type": "markdown",
   "metadata": {},
   "source": [
    "## **4. Analisis Gaji Berdasarkan Tipe Pekerjaan**"
   ]
  },
  {
   "cell_type": "markdown",
   "metadata": {},
   "source": [
    "**a. Apakah ada perbedaan gaji yang signifikan antara tipe pekerjaan yang berbeda?**\n",
    "\n",
    "untuk mengetahuinya, saya akan melakukan Uji Hipotesis dengan menggunakan 'One-Way ANOVA'"
   ]
  },
  {
   "cell_type": "markdown",
   "metadata": {},
   "source": [
    "**Kerangka Hipotesis:**\n",
    "\n",
    "H0  : Tidak ada perbedaan signifikan dalam rata-rata gaji antara Tipe Pekerjaan.\n",
    "\n",
    "H1  : Ada perbedaan signifikan dalam rata-rata gaji antara Tipe Pekerjaan."
   ]
  },
  {
   "cell_type": "code",
   "execution_count": 19,
   "metadata": {},
   "outputs": [
    {
     "name": "stdout",
     "output_type": "stream",
     "text": [
      "F-statistik : 20.850249944174557,\n",
      "P-value     : 2.150884103727914e-13\n",
      "Berhasil Menolak H0.\n",
      "Ada perbedaan signifikan antara 'Employment Type'.\n"
     ]
    }
   ],
   "source": [
    "def anova(df, emptype_col, salary_col):\n",
    "    # Memisahkan data berdasarkan pengalaman kerja\n",
    "    emptype_groups = [group[salary_col].values for name, group in df.groupby(emptype_col)]\n",
    "\n",
    "    # Melakukan ANOVA satu arah\n",
    "    f_stat, p_value = f_oneway(*emptype_groups)\n",
    "\n",
    "    # Menampilkan hasil ANOVA\n",
    "    print(f\"F-statistik : {f_stat},\\nP-value     : {p_value}\")\n",
    "\n",
    "    # Menentukan kesimpulan\n",
    "    alpha = 0.05\n",
    "    if p_value < alpha:\n",
    "        print(\"Berhasil Menolak H0.\\nAda perbedaan signifikan antara 'Employment Type'.\")\n",
    "    else:\n",
    "        print(\"Gagal menolak H0.\\nTidak ada perbedaan signifikan antara 'Employment Type'.\")\n",
    "\n",
    "# Panggil fungsi dengan DataFrame dan nama kolom yang relevan\n",
    "anova(df, 'employment_type', 'salary_in_usd')"
   ]
  },
  {
   "cell_type": "markdown",
   "metadata": {},
   "source": [
    "**b. Apa preferensi karyawan terhadap tipe pekerjaan?**"
   ]
  },
  {
   "cell_type": "code",
   "execution_count": 20,
   "metadata": {},
   "outputs": [
    {
     "data": {
      "text/html": [
       "<div>\n",
       "<style scoped>\n",
       "    .dataframe tbody tr th:only-of-type {\n",
       "        vertical-align: middle;\n",
       "    }\n",
       "\n",
       "    .dataframe tbody tr th {\n",
       "        vertical-align: top;\n",
       "    }\n",
       "\n",
       "    .dataframe thead th {\n",
       "        text-align: right;\n",
       "    }\n",
       "</style>\n",
       "<table border=\"1\" class=\"dataframe\">\n",
       "  <thead>\n",
       "    <tr style=\"text-align: right;\">\n",
       "      <th>remote_ratio</th>\n",
       "      <th>Hybrid</th>\n",
       "      <th>WFH</th>\n",
       "      <th>WFO</th>\n",
       "    </tr>\n",
       "    <tr>\n",
       "      <th>employment_type</th>\n",
       "      <th></th>\n",
       "      <th></th>\n",
       "      <th></th>\n",
       "    </tr>\n",
       "  </thead>\n",
       "  <tbody>\n",
       "    <tr>\n",
       "      <th>Contract</th>\n",
       "      <td>1.0</td>\n",
       "      <td>9.0</td>\n",
       "      <td>NaN</td>\n",
       "    </tr>\n",
       "    <tr>\n",
       "      <th>Freelance</th>\n",
       "      <td>4.0</td>\n",
       "      <td>5.0</td>\n",
       "      <td>1.0</td>\n",
       "    </tr>\n",
       "    <tr>\n",
       "      <th>Full Time</th>\n",
       "      <td>176.0</td>\n",
       "      <td>1620.0</td>\n",
       "      <td>1922.0</td>\n",
       "    </tr>\n",
       "    <tr>\n",
       "      <th>Part Time</th>\n",
       "      <td>8.0</td>\n",
       "      <td>9.0</td>\n",
       "      <td>NaN</td>\n",
       "    </tr>\n",
       "  </tbody>\n",
       "</table>\n",
       "</div>"
      ],
      "text/plain": [
       "remote_ratio     Hybrid     WFH     WFO\n",
       "employment_type                        \n",
       "Contract            1.0     9.0     NaN\n",
       "Freelance           4.0     5.0     1.0\n",
       "Full Time         176.0  1620.0  1922.0\n",
       "Part Time           8.0     9.0     NaN"
      ]
     },
     "execution_count": 20,
     "metadata": {},
     "output_type": "execute_result"
    }
   ],
   "source": [
    "# Membuat Pivot Table berdasarkan employment_type dan mode pekerja\n",
    "pvt_emptype = df.pivot_table(values='salary_in_usd', index='employment_type', columns='remote_ratio', aggfunc='count')\n",
    "pvt_emptype = pvt_emptype.round(2)\n",
    "\n",
    "pvt_emptype"
   ]
  },
  {
   "cell_type": "markdown",
   "metadata": {},
   "source": [
    "Insight: Berdasarkan hasil statistika deskriptif tersebut, tipe pekerjaan paling banyak adalah Full Time."
   ]
  },
  {
   "cell_type": "code",
   "execution_count": 21,
   "metadata": {},
   "outputs": [
    {
     "data": {
      "text/html": [
       "<div>\n",
       "<style scoped>\n",
       "    .dataframe tbody tr th:only-of-type {\n",
       "        vertical-align: middle;\n",
       "    }\n",
       "\n",
       "    .dataframe tbody tr th {\n",
       "        vertical-align: top;\n",
       "    }\n",
       "\n",
       "    .dataframe thead th {\n",
       "        text-align: right;\n",
       "    }\n",
       "</style>\n",
       "<table border=\"1\" class=\"dataframe\">\n",
       "  <thead>\n",
       "    <tr style=\"text-align: right;\">\n",
       "      <th></th>\n",
       "      <th>salary_in_usd</th>\n",
       "    </tr>\n",
       "    <tr>\n",
       "      <th>company_location</th>\n",
       "      <th></th>\n",
       "    </tr>\n",
       "  </thead>\n",
       "  <tbody>\n",
       "    <tr>\n",
       "      <th>United States</th>\n",
       "      <td>3022</td>\n",
       "    </tr>\n",
       "    <tr>\n",
       "      <th>United Kingdom</th>\n",
       "      <td>172</td>\n",
       "    </tr>\n",
       "    <tr>\n",
       "      <th>Canada</th>\n",
       "      <td>87</td>\n",
       "    </tr>\n",
       "    <tr>\n",
       "      <th>Spain</th>\n",
       "      <td>76</td>\n",
       "    </tr>\n",
       "    <tr>\n",
       "      <th>India</th>\n",
       "      <td>55</td>\n",
       "    </tr>\n",
       "    <tr>\n",
       "      <th>Germany</th>\n",
       "      <td>54</td>\n",
       "    </tr>\n",
       "    <tr>\n",
       "      <th>France</th>\n",
       "      <td>33</td>\n",
       "    </tr>\n",
       "    <tr>\n",
       "      <th>Brazil</th>\n",
       "      <td>15</td>\n",
       "    </tr>\n",
       "    <tr>\n",
       "      <th>Greece</th>\n",
       "      <td>14</td>\n",
       "    </tr>\n",
       "    <tr>\n",
       "      <th>Portugal</th>\n",
       "      <td>14</td>\n",
       "    </tr>\n",
       "  </tbody>\n",
       "</table>\n",
       "</div>"
      ],
      "text/plain": [
       "                  salary_in_usd\n",
       "company_location               \n",
       "United States              3022\n",
       "United Kingdom              172\n",
       "Canada                       87\n",
       "Spain                        76\n",
       "India                        55\n",
       "Germany                      54\n",
       "France                       33\n",
       "Brazil                       15\n",
       "Greece                       14\n",
       "Portugal                     14"
      ]
     },
     "execution_count": 21,
     "metadata": {},
     "output_type": "execute_result"
    }
   ],
   "source": [
    "# Memfilter hanya 'Full time' saja\n",
    "filt_df = df[(df['employment_type'] == 'Full Time')]\n",
    "rmt_wfo = filt_df.pivot_table(values='salary_in_usd', index='company_location', aggfunc='count')\n",
    "# Mengambil 10 lokasi tertinggi\n",
    "rmt_wfo = rmt_wfo.nlargest(10, 'salary_in_usd')\n",
    "rmt_wfo"
   ]
  },
  {
   "cell_type": "markdown",
   "metadata": {},
   "source": [
    "Insight: Hasil Slicing menunjukan company location untuk tipe 'Full Time' tertinggi berada di negara United States."
   ]
  },
  {
   "cell_type": "markdown",
   "metadata": {},
   "source": [
    "## **5. Analisis Gaji Berdasarkan Mode Pekerja**"
   ]
  },
  {
   "cell_type": "markdown",
   "metadata": {},
   "source": [
    "**a. Apakah ada perbedaan gaji yang signifikan antara mode pekerjaan yang berbeda?**\n",
    "\n",
    "untuk mengetahuinya, saya akan melakukan Uji Hipotesis dengan menggunakan 'One-Way ANOVA'"
   ]
  },
  {
   "cell_type": "markdown",
   "metadata": {},
   "source": [
    "**Kerangka Hipotesis:**\n",
    "\n",
    "H0  : Tidak ada perbedaan signifikan dalam rata-rata gaji antara Mode Pekerja.\n",
    "\n",
    "H1  : Ada perbedaan signifikan dalam rata-rata gaji antara Mode Pekerja."
   ]
  },
  {
   "cell_type": "code",
   "execution_count": 22,
   "metadata": {},
   "outputs": [
    {
     "name": "stdout",
     "output_type": "stream",
     "text": [
      "F-statistik : 99.41362048912457,\n",
      "P-value     : 8.51738536255755e-43\n",
      "Berhasil Menolak H0.\n",
      "Ada perbedaan signifikan antara 'Remote Ratio'.\n"
     ]
    }
   ],
   "source": [
    "def anova(df, mode_col, salary_col):\n",
    "    # Memisahkan data berdasarkan pengalaman kerja\n",
    "    emptype_groups = [group[salary_col].values for name, group in df.groupby(mode_col)]\n",
    "\n",
    "    # Melakukan ANOVA satu arah\n",
    "    f_stat, p_value = f_oneway(*emptype_groups)\n",
    "\n",
    "    # Menampilkan hasil ANOVA\n",
    "    print(f\"F-statistik : {f_stat},\\nP-value     : {p_value}\")\n",
    "\n",
    "    # Menentukan kesimpulan\n",
    "    alpha = 0.05\n",
    "    if p_value < alpha:\n",
    "        print(\"Berhasil Menolak H0.\\nAda perbedaan signifikan antara 'Remote Ratio'.\")\n",
    "    else:\n",
    "        print(\"Gagal menolak H0.\\nTidak ada perbedaan signifikan antara 'Remote Ratio'.\")\n",
    "\n",
    "# Panggil fungsi dengan DataFrame dan nama kolom yang relevan\n",
    "anova(df, 'remote_ratio', 'salary_in_usd')"
   ]
  },
  {
   "cell_type": "markdown",
   "metadata": {},
   "source": [
    "**b. Apa mode pekerja yang rata-rata gajinya paling tinggi?**"
   ]
  },
  {
   "cell_type": "code",
   "execution_count": 23,
   "metadata": {},
   "outputs": [
    {
     "data": {
      "text/html": [
       "<div>\n",
       "<style scoped>\n",
       "    .dataframe tbody tr th:only-of-type {\n",
       "        vertical-align: middle;\n",
       "    }\n",
       "\n",
       "    .dataframe tbody tr th {\n",
       "        vertical-align: top;\n",
       "    }\n",
       "\n",
       "    .dataframe thead th {\n",
       "        text-align: right;\n",
       "    }\n",
       "</style>\n",
       "<table border=\"1\" class=\"dataframe\">\n",
       "  <thead>\n",
       "    <tr style=\"text-align: right;\">\n",
       "      <th>work_year</th>\n",
       "      <th>2020</th>\n",
       "      <th>2021</th>\n",
       "      <th>2022</th>\n",
       "      <th>2023</th>\n",
       "    </tr>\n",
       "    <tr>\n",
       "      <th>remote_ratio</th>\n",
       "      <th></th>\n",
       "      <th></th>\n",
       "      <th></th>\n",
       "      <th></th>\n",
       "    </tr>\n",
       "  </thead>\n",
       "  <tbody>\n",
       "    <tr>\n",
       "      <th>Hybrid</th>\n",
       "      <td>77591.24</td>\n",
       "      <td>76104.41</td>\n",
       "      <td>84560.87</td>\n",
       "      <td>72053.50</td>\n",
       "    </tr>\n",
       "    <tr>\n",
       "      <th>WFH</th>\n",
       "      <td>99763.21</td>\n",
       "      <td>105812.78</td>\n",
       "      <td>135631.10</td>\n",
       "      <td>146380.12</td>\n",
       "    </tr>\n",
       "    <tr>\n",
       "      <th>WFO</th>\n",
       "      <td>93426.19</td>\n",
       "      <td>92899.68</td>\n",
       "      <td>134719.24</td>\n",
       "      <td>152393.52</td>\n",
       "    </tr>\n",
       "  </tbody>\n",
       "</table>\n",
       "</div>"
      ],
      "text/plain": [
       "work_year         2020       2021       2022       2023\n",
       "remote_ratio                                           \n",
       "Hybrid        77591.24   76104.41   84560.87   72053.50\n",
       "WFH           99763.21  105812.78  135631.10  146380.12\n",
       "WFO           93426.19   92899.68  134719.24  152393.52"
      ]
     },
     "execution_count": 23,
     "metadata": {},
     "output_type": "execute_result"
    }
   ],
   "source": [
    "# Membuat Pivot Table berdasarkan remote_ratio\n",
    "pvt_rmt = df.pivot_table(values='salary_in_usd', index='remote_ratio', columns='work_year', aggfunc='mean')\n",
    "pvt_rmt = pvt_rmt.round(2)\n",
    "\n",
    "pvt_rmt"
   ]
  },
  {
   "cell_type": "markdown",
   "metadata": {},
   "source": [
    "Insight: Berdasarkan Hasil statistika deskriptif tersebut, selama tahun 2020-2022 rata-rata paling tinggi terdapat pada 'WFH'. sedangkan di tahun 2023 adalah 'WFO'.\n",
    "\n",
    "Hasil ini kemungkinan Bias dikarenakan pada tahun tersebut pekerja memang dipaksa untuk WFH yang disebabkan oleh Pandemi Covid."
   ]
  },
  {
   "cell_type": "markdown",
   "metadata": {},
   "source": [
    "## **6. Analisis Gaji Berdasarkan Ukuran Perusahaan**"
   ]
  },
  {
   "cell_type": "markdown",
   "metadata": {},
   "source": [
    "**a. Apakah ukuran perusahaan mempengaruhi gaji?**"
   ]
  },
  {
   "cell_type": "code",
   "execution_count": 24,
   "metadata": {},
   "outputs": [
    {
     "data": {
      "text/html": [
       "<div>\n",
       "<style scoped>\n",
       "    .dataframe tbody tr th:only-of-type {\n",
       "        vertical-align: middle;\n",
       "    }\n",
       "\n",
       "    .dataframe tbody tr th {\n",
       "        vertical-align: top;\n",
       "    }\n",
       "\n",
       "    .dataframe thead th {\n",
       "        text-align: right;\n",
       "    }\n",
       "</style>\n",
       "<table border=\"1\" class=\"dataframe\">\n",
       "  <thead>\n",
       "    <tr style=\"text-align: right;\">\n",
       "      <th>work_year</th>\n",
       "      <th>2020</th>\n",
       "      <th>2021</th>\n",
       "      <th>2022</th>\n",
       "      <th>2023</th>\n",
       "    </tr>\n",
       "    <tr>\n",
       "      <th>company_size</th>\n",
       "      <th></th>\n",
       "      <th></th>\n",
       "      <th></th>\n",
       "      <th></th>\n",
       "    </tr>\n",
       "  </thead>\n",
       "  <tbody>\n",
       "    <tr>\n",
       "      <th>Large</th>\n",
       "      <td>101000.37</td>\n",
       "      <td>107165.70</td>\n",
       "      <td>121281.96</td>\n",
       "      <td>133379.40</td>\n",
       "    </tr>\n",
       "    <tr>\n",
       "      <th>Medium</th>\n",
       "      <td>106626.44</td>\n",
       "      <td>74463.04</td>\n",
       "      <td>137132.46</td>\n",
       "      <td>150867.20</td>\n",
       "    </tr>\n",
       "    <tr>\n",
       "      <th>Small</th>\n",
       "      <td>70958.56</td>\n",
       "      <td>82129.45</td>\n",
       "      <td>78050.85</td>\n",
       "      <td>78579.77</td>\n",
       "    </tr>\n",
       "  </tbody>\n",
       "</table>\n",
       "</div>"
      ],
      "text/plain": [
       "work_year          2020       2021       2022       2023\n",
       "company_size                                            \n",
       "Large         101000.37  107165.70  121281.96  133379.40\n",
       "Medium        106626.44   74463.04  137132.46  150867.20\n",
       "Small          70958.56   82129.45   78050.85   78579.77"
      ]
     },
     "execution_count": 24,
     "metadata": {},
     "output_type": "execute_result"
    }
   ],
   "source": [
    "pvt_sml = df.pivot_table(values='salary_in_usd', index='company_size', columns='work_year', aggfunc='mean')\n",
    "pvt_sml = pvt_sml.round(2)\n",
    "\n",
    "pvt_sml\n"
   ]
  },
  {
   "cell_type": "markdown",
   "metadata": {},
   "source": [
    "Insight: Berdasarkan hasil statistika deskriptif tersebut, ukuran perusahaan tidak mempengaruhi gaji, karena gaji terbesar terdapat di perusahaan yang berukuran Medium."
   ]
  },
  {
   "cell_type": "code",
   "execution_count": 44,
   "metadata": {},
   "outputs": [
    {
     "data": {
      "image/png": "[encoded data removed]",
      "text/plain": [
       "<Figure size 500x500 with 1 Axes>"
      ]
     },
     "metadata": {},
     "output_type": "display_data"
    }
   ],
   "source": [
    "# Menghitung jumlah untuk setiap ukuran perusahaan\n",
    "company_size_counts = df['company_size'].value_counts()\n",
    "\n",
    "# Membuat pie chart\n",
    "plt.figure(figsize=(5, 5))\n",
    "plt.pie(company_size_counts, labels=company_size_counts.index, autopct='%1.1f%%', startangle=90, textprops={'fontweight': 'bold'})\n",
    "\n",
    "# Membuat lingkaran di tengah untuk membuat donut\n",
    "centre_circle = plt.Circle((0, 0), 0.50, fc='white')\n",
    "fig = plt.gcf()\n",
    "fig.gca().add_artist(centre_circle)\n",
    "\n",
    "# Menambahkan judul\n",
    "plt.title('Distribusi Ukuran Perusahaan', fontsize=16, fontweight='bold', pad=20)\n",
    "plt.axis('equal')  \n",
    "\n",
    "# Menampilkan grafik\n",
    "plt.show()"
   ]
  },
  {
   "cell_type": "code",
   "execution_count": 45,
   "metadata": {},
   "outputs": [
    {
     "data": {
      "text/html": [
       "<div>\n",
       "<style scoped>\n",
       "    .dataframe tbody tr th:only-of-type {\n",
       "        vertical-align: middle;\n",
       "    }\n",
       "\n",
       "    .dataframe tbody tr th {\n",
       "        vertical-align: top;\n",
       "    }\n",
       "\n",
       "    .dataframe thead th {\n",
       "        text-align: right;\n",
       "    }\n",
       "</style>\n",
       "<table border=\"1\" class=\"dataframe\">\n",
       "  <thead>\n",
       "    <tr style=\"text-align: right;\">\n",
       "      <th></th>\n",
       "      <th>count</th>\n",
       "    </tr>\n",
       "    <tr>\n",
       "      <th>company_size</th>\n",
       "      <th></th>\n",
       "    </tr>\n",
       "  </thead>\n",
       "  <tbody>\n",
       "    <tr>\n",
       "      <th>Medium</th>\n",
       "      <td>3153</td>\n",
       "    </tr>\n",
       "    <tr>\n",
       "      <th>Large</th>\n",
       "      <td>454</td>\n",
       "    </tr>\n",
       "    <tr>\n",
       "      <th>Small</th>\n",
       "      <td>148</td>\n",
       "    </tr>\n",
       "  </tbody>\n",
       "</table>\n",
       "</div>"
      ],
      "text/plain": [
       "              count\n",
       "company_size       \n",
       "Medium         3153\n",
       "Large           454\n",
       "Small           148"
      ]
     },
     "execution_count": 45,
     "metadata": {},
     "output_type": "execute_result"
    }
   ],
   "source": [
    "company_size_counts = pd.DataFrame(company_size_counts)\n",
    "company_size_counts"
   ]
  },
  {
   "cell_type": "markdown",
   "metadata": {},
   "source": [
    "Insight: Melihat distribusi ukuran perusahaan (kecil, menengah, besar) dapat memberikan gambaran tentang dominasi jenis perusahaan."
   ]
  },
  {
   "cell_type": "markdown",
   "metadata": {},
   "source": [
    "## **7. Analisis Lokasi Perusahaan Terhadap Gaji**"
   ]
  },
  {
   "cell_type": "markdown",
   "metadata": {},
   "source": [
    "**a. Dimana lokasi perusahaan yang membuka peluang karir lebih besar?**"
   ]
  },
  {
   "cell_type": "code",
   "execution_count": 47,
   "metadata": {},
   "outputs": [
    {
     "data": {
      "text/html": [
       "<div>\n",
       "<style scoped>\n",
       "    .dataframe tbody tr th:only-of-type {\n",
       "        vertical-align: middle;\n",
       "    }\n",
       "\n",
       "    .dataframe tbody tr th {\n",
       "        vertical-align: top;\n",
       "    }\n",
       "\n",
       "    .dataframe thead th {\n",
       "        text-align: right;\n",
       "    }\n",
       "</style>\n",
       "<table border=\"1\" class=\"dataframe\">\n",
       "  <thead>\n",
       "    <tr style=\"text-align: right;\">\n",
       "      <th></th>\n",
       "      <th>count</th>\n",
       "    </tr>\n",
       "    <tr>\n",
       "      <th>company_location</th>\n",
       "      <th></th>\n",
       "    </tr>\n",
       "  </thead>\n",
       "  <tbody>\n",
       "    <tr>\n",
       "      <th>United States</th>\n",
       "      <td>3040</td>\n",
       "    </tr>\n",
       "    <tr>\n",
       "      <th>United Kingdom</th>\n",
       "      <td>172</td>\n",
       "    </tr>\n",
       "    <tr>\n",
       "      <th>Canada</th>\n",
       "      <td>87</td>\n",
       "    </tr>\n",
       "    <tr>\n",
       "      <th>Spain</th>\n",
       "      <td>77</td>\n",
       "    </tr>\n",
       "    <tr>\n",
       "      <th>India</th>\n",
       "      <td>58</td>\n",
       "    </tr>\n",
       "    <tr>\n",
       "      <th>Germany</th>\n",
       "      <td>56</td>\n",
       "    </tr>\n",
       "    <tr>\n",
       "      <th>France</th>\n",
       "      <td>34</td>\n",
       "    </tr>\n",
       "    <tr>\n",
       "      <th>Brazil</th>\n",
       "      <td>15</td>\n",
       "    </tr>\n",
       "    <tr>\n",
       "      <th>Greece</th>\n",
       "      <td>14</td>\n",
       "    </tr>\n",
       "    <tr>\n",
       "      <th>Portugal</th>\n",
       "      <td>14</td>\n",
       "    </tr>\n",
       "  </tbody>\n",
       "</table>\n",
       "</div>"
      ],
      "text/plain": [
       "                  count\n",
       "company_location       \n",
       "United States      3040\n",
       "United Kingdom      172\n",
       "Canada               87\n",
       "Spain                77\n",
       "India                58\n",
       "Germany              56\n",
       "France               34\n",
       "Brazil               15\n",
       "Greece               14\n",
       "Portugal             14"
      ]
     },
     "execution_count": 47,
     "metadata": {},
     "output_type": "execute_result"
    }
   ],
   "source": [
    "# Membuat 10 company_location terbanyak dalam data.\n",
    "top10_country = df.company_location.value_counts()[:10]\n",
    "top10_country = pd.DataFrame(top10_country)\n",
    "top10_country"
   ]
  },
  {
   "cell_type": "code",
   "execution_count": 27,
   "metadata": {},
   "outputs": [
    {
     "data": {
      "image/png": "[encoded data removed]",
      "text/plain": [
       "<Figure size 640x480 with 1 Axes>"
      ]
     },
     "metadata": {},
     "output_type": "display_data"
    }
   ],
   "source": [
    "colors = plt.cm.viridis(range(len(top10_country)))\n",
    "top10_country.plot(kind='barh', color=colors)\n",
    "# Menambahkan label dan judul\n",
    "plt.title('Top 10 Negara')\n",
    "plt.xlabel('Jumlah')\n",
    "plt.ylabel('Negara')\n",
    "\n",
    "# Menampilkan grafik\n",
    "plt.show()"
   ]
  },
  {
   "cell_type": "markdown",
   "metadata": {},
   "source": [
    "Insight: Identifikasi negara mana yang membuka peluang karir lebih banyak."
   ]
  },
  {
   "cell_type": "markdown",
   "metadata": {},
   "source": [
    "**b. Negara mana yang memiliki rata-rata gaji paling besar?**"
   ]
  },
  {
   "cell_type": "code",
   "execution_count": 28,
   "metadata": {},
   "outputs": [
    {
     "data": {
      "text/html": [
       "<div>\n",
       "<style scoped>\n",
       "    .dataframe tbody tr th:only-of-type {\n",
       "        vertical-align: middle;\n",
       "    }\n",
       "\n",
       "    .dataframe tbody tr th {\n",
       "        vertical-align: top;\n",
       "    }\n",
       "\n",
       "    .dataframe thead th {\n",
       "        text-align: right;\n",
       "    }\n",
       "</style>\n",
       "<table border=\"1\" class=\"dataframe\">\n",
       "  <thead>\n",
       "    <tr style=\"text-align: right;\">\n",
       "      <th></th>\n",
       "      <th>average_salary</th>\n",
       "    </tr>\n",
       "    <tr>\n",
       "      <th>company_location</th>\n",
       "      <th></th>\n",
       "    </tr>\n",
       "  </thead>\n",
       "  <tbody>\n",
       "    <tr>\n",
       "      <th>Israel</th>\n",
       "      <td>271446.50</td>\n",
       "    </tr>\n",
       "    <tr>\n",
       "      <th>Puerto Rico</th>\n",
       "      <td>167500.00</td>\n",
       "    </tr>\n",
       "    <tr>\n",
       "      <th>United States</th>\n",
       "      <td>145294.48</td>\n",
       "    </tr>\n",
       "    <tr>\n",
       "      <th>Russian Federation</th>\n",
       "      <td>131750.00</td>\n",
       "    </tr>\n",
       "    <tr>\n",
       "      <th>New Zealand</th>\n",
       "      <td>125000.00</td>\n",
       "    </tr>\n",
       "    <tr>\n",
       "      <th>Japan</th>\n",
       "      <td>123306.62</td>\n",
       "    </tr>\n",
       "    <tr>\n",
       "      <th>Bosnia and Herzegovina</th>\n",
       "      <td>120000.00</td>\n",
       "    </tr>\n",
       "    <tr>\n",
       "      <th>Ireland</th>\n",
       "      <td>116550.70</td>\n",
       "    </tr>\n",
       "    <tr>\n",
       "      <th>Canada</th>\n",
       "      <td>112367.02</td>\n",
       "    </tr>\n",
       "    <tr>\n",
       "      <th>Sweden</th>\n",
       "      <td>105000.00</td>\n",
       "    </tr>\n",
       "  </tbody>\n",
       "</table>\n",
       "</div>"
      ],
      "text/plain": [
       "                        average_salary\n",
       "company_location                      \n",
       "Israel                       271446.50\n",
       "Puerto Rico                  167500.00\n",
       "United States                145294.48\n",
       "Russian Federation           131750.00\n",
       "New Zealand                  125000.00\n",
       "Japan                        123306.62\n",
       "Bosnia and Herzegovina       120000.00\n",
       "Ireland                      116550.70\n",
       "Canada                       112367.02\n",
       "Sweden                       105000.00"
      ]
     },
     "execution_count": 28,
     "metadata": {},
     "output_type": "execute_result"
    }
   ],
   "source": [
    "# Membuat pivot table dengan rata-rata gaji berdasarkan company_location\n",
    "pvt_comploc = df.pivot_table(\n",
    "    values='salary_in_usd', \n",
    "    index='company_location', \n",
    "    columns='work_year', \n",
    "    aggfunc='mean'\n",
    ")\n",
    "\n",
    "# Menghitung rata-rata gaji \n",
    "pvt_comploc['average_salary'] = pvt_comploc.mean(axis=1)\n",
    "\n",
    "# Mengambil 10 lokasi perusahaan dengan rata-rata gaji tertinggi\n",
    "top10_salary = pd.DataFrame(pvt_comploc['average_salary'].nlargest(10).round(2))\n",
    "\n",
    "top10_salary"
   ]
  },
  {
   "cell_type": "code",
   "execution_count": 29,
   "metadata": {},
   "outputs": [
    {
     "data": {
      "image/png": "[encoded data removed]",
      "text/plain": [
       "<Figure size 640x480 with 1 Axes>"
      ]
     },
     "metadata": {},
     "output_type": "display_data"
    }
   ],
   "source": [
    "colors = plt.cm.viridis(range(len(top10_salary)))\n",
    "top10_salary.plot(kind='barh', color=colors)\n",
    "# Menambahkan label dan judul\n",
    "plt.title('Top 10 Negara')\n",
    "plt.xlabel('Jumlah')\n",
    "plt.ylabel('Negara')\n",
    "\n",
    "# Menampilkan grafik\n",
    "plt.show()"
   ]
  },
  {
   "cell_type": "markdown",
   "metadata": {},
   "source": [
    "Insight: Identifikasi negara mana yang memiliki gaji rata-rata tertinggi. Ini memberikan indikasi di mana peluang penghasilan yang paling menguntungkan berada."
   ]
  },
  {
   "cell_type": "markdown",
   "metadata": {},
   "source": [
    "# BAB VI. PENGAMBILAN KESIMPULAN"
   ]
  },
  {
   "cell_type": "markdown",
   "metadata": {},
   "source": [
    "\n",
    "**Rekapitulasi Hasil Analisis**\n",
    "\n",
    "Analisis Gaji Berdasarkan Tahun:\n",
    "\n",
    "Tren Gaji: Gaji meningkat dari 2020 hingga 2023, kecuali Data Scientist yang mengalami penurunan di 2021.\n",
    "Rata-rata Persentase Gaji: Rata-rata persentase gaji meningkat setiap tahun, dengan penurunan -14,65% untuk Data Scientist di 2021, diikuti oleh peningkatan tajam 43% di tahun berikutnya.\n",
    "Analisis Gaji Berdasarkan Kategori Pekerjaan:\n",
    "\n",
    "Perbedaan Rata-rata Gaji Terhadap:\n",
    "a. Kategori Pekerjaan\n",
    "Terdapat perbedaan signifikan antara kategori pekerjaan; Data Scientist memiliki gaji tertinggi, sedangkan Data Analyst terendah.\n",
    "Minat Kategori Pekerjaan: Data Engineer adalah kategori pekerjaan yang paling banyak diminati, mencapai 46% dari total.\n",
    "Analisis Gaji Berdasarkan Pengalaman:\n",
    "\n",
    "b. Level Pengalaman\n",
    "Terdapat perbedaan signifikan antara level pengalaman; H0 ditolak berdasarkan P_value yang sangat kecil.\n",
    "Pengaruh Level Pengalaman: Level 'Executive' memiliki gaji yang lebih besar, menunjukkan pengaruh pengalaman terhadap gaji.\n",
    "Analisis Gaji Berdasarkan Tipe Pekerjaan:\n",
    "\n",
    "c. Tipe Pekerjaan\n",
    "Terdapat perbedaan signifikan dalam rata-rata gaji antar tipe pekerjaan.\n",
    "Preferensi Tipe Pekerjaan: Tipe pekerjaan yang paling banyak dipilih adalah Full Time.\n",
    "Analisis Gaji Berdasarkan Mode Pekerjaan:\n",
    "\n",
    "d. Mode Pekerjaan\n",
    "Ada perbedaan signifikan dalam rata-rata gaji berdasarkan mode pekerjaan.\n",
    "Mode Pekerjaan dengan Gaji Tertinggi: WFH memiliki rata-rata gaji tertinggi selama 2020-2023, sementara WFO tertinggi di 2023, meskipun ada potensi bias akibat pandemi.\n",
    "Analisis Gaji Berdasarkan Ukuran Perusahaan:\n",
    "\n",
    "e. Ukuran Perusahaan\n",
    "Ukuran perusahaan tidak mempengaruhi gaji; perusahaan medium memiliki gaji tertinggi.\n",
    "Analisis Lokasi Perusahaan terhadap Gaji:\n",
    "\n",
    "Peluang Karir: Amerika Serikat adalah lokasi dengan peluang karir terbesar.\n",
    "Rata-rata Gaji Tertinggi: Israel memiliki rata-rata gaji tertinggi.\n",
    "\n",
    "**Kesimpulan**\n",
    "\n",
    "Tren Gaji: Gaji cenderung meningkat, dengan Data Scientist sebagai kategori yang paling fluktuatif.\n",
    "Perbedaan Gaji: Terdapat perbedaan signifikan antar kategori pekerjaan, dengan Data Scientist dan Data Engineer di posisi teratas.\n",
    "Pengaruh Pengalaman: Level pengalaman jelas mempengaruhi gaji, dengan 'Executive' mendapatkan gaji tertinggi.\n",
    "Tipe Pekerjaan dan Mode: Tipe pekerjaan full-time dan mode WFH menunjukkan preferensi yang tinggi, meskipun ada pergeseran pasca-pandemi.\n",
    "Ukuran Perusahaan: Ukuran perusahaan tidak berdampak signifikan pada gaji.\n",
    "Lokasi: AS menawarkan peluang karir terbanyak, sementara Israel memiliki gaji tertinggi."
   ]
  },
  {
   "cell_type": "markdown",
   "metadata": {},
   "source": []
  }
 ],
 "metadata": {
  "kernelspec": {
   "display_name": "base",
   "language": "python",
   "name": "python3"
  },
  "language_info": {
   "codemirror_mode": {
    "name": "ipython",
    "version": 3
   },
   "file_extension": ".py",
   "mimetype": "text/x-python",
   "name": "python",
   "nbconvert_exporter": "python",
   "pygments_lexer": "ipython3",
   "version": "3.12.3"
  }
 },
 "nbformat": 4,
 "nbformat_minor": 2
}
